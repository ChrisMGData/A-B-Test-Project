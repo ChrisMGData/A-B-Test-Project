{
 "cells": [
  {
   "cell_type": "markdown",
   "metadata": {},
   "source": [
    "# Tabla de contenidos\n",
    "<a id=\"Inicio\"></a>\n",
    "\n",
    "1. [Abrir el archivo de datos y leer la información general](#paso1)\n",
    "2. [Preparar los datos para el análisis](#paso2)\n",
    "3. [Estudiar y comprobar los datos](#paso3)\n",
    "   * [¿Qué periodo de tiempo cubren los datos?](#period)\n",
    "   * [Traza un histograma por fecha y hora.](#hist)\n",
    "   * [Asegúrate de tener usuarios y usuarias de los tres grupos experimentales.](#users_groups)\n",
    "4. [ Estudiar el embudo de eventos](#paso4)\n",
    "   * [¿En qué orden crees que ocurrieron las acciones? ¿Todas son parte de una sola secuencia?](#order)\n",
    "   * [Utiliza el embudo de eventos para encontrar la proporción de usuarios y usuarias que pasan de una etapa a la siguiente.](#embudo)\n",
    "   * [¿En qué etapa pierdes más usuarios y usuarias?](#stages)\n",
    "5. [Estudiar los resultados del experimento](#paso5)\n",
    "   * [¿Cuántos usuarios y usuarias hay en cada grupo?](#users_group)\n",
    "   * [Tenemos dos grupos de control en el test A/A, donde comprobamos nuestros mecanismos y cálculos. Observa si hay una diferencia estadísticamente significativa entre las muestras 246 y 247.](#A/A)\n",
    "   * [Comprueba si la diferencia entre los grupos es estadísticamente significativa. Repite el procedimiento para todos los demás eventos](#func)\n",
    "   * [Compara los resultados con los resultados combinados de los grupos de control. ¿Qué conclusiones puedes sacar del experimento?](#results)\n",
    "6. [Conclusiones](#conc)"
   ]
  },
  {
   "cell_type": "code",
   "execution_count": 2,
   "metadata": {
    "tags": [
     "2b1861ea-c3e0-4698-b05b-5c58897896c5"
    ]
   },
   "outputs": [],
   "source": [
    "import pandas as pd\n",
    "import seaborn as sns\n",
    "import matplotlib.pyplot as plt\n",
    "import plotly.express as px\n",
    "import plotly.graph_objects as go\n",
    "import scipy.stats as st\n",
    "import numpy as np\n",
    "import math as mth"
   ]
  },
  {
   "cell_type": "markdown",
   "metadata": {},
   "source": [
    "# Paso 1. Abrir el archivo de datos y leer la información general\n",
    "<a id=\"paso1\"></a>\n",
    "[Inicio](#Inicio)"
   ]
  },
  {
   "cell_type": "code",
   "execution_count": 3,
   "metadata": {
    "scrolled": false
   },
   "outputs": [
    {
     "name": "stdout",
     "output_type": "stream",
     "text": [
      "<class 'pandas.core.frame.DataFrame'>\n",
      "RangeIndex: 244126 entries, 0 to 244125\n",
      "Data columns (total 4 columns):\n",
      " #   Column          Non-Null Count   Dtype \n",
      "---  ------          --------------   ----- \n",
      " 0   EventName       244126 non-null  object\n",
      " 1   DeviceIDHash    244126 non-null  int64 \n",
      " 2   EventTimestamp  244126 non-null  int64 \n",
      " 3   ExpId           244126 non-null  int64 \n",
      "dtypes: int64(3), object(1)\n",
      "memory usage: 7.5+ MB\n",
      "\n"
     ]
    },
    {
     "data": {
      "text/html": [
       "<div>\n",
       "<style scoped>\n",
       "    .dataframe tbody tr th:only-of-type {\n",
       "        vertical-align: middle;\n",
       "    }\n",
       "\n",
       "    .dataframe tbody tr th {\n",
       "        vertical-align: top;\n",
       "    }\n",
       "\n",
       "    .dataframe thead th {\n",
       "        text-align: right;\n",
       "    }\n",
       "</style>\n",
       "<table border=\"1\" class=\"dataframe\">\n",
       "  <thead>\n",
       "    <tr style=\"text-align: right;\">\n",
       "      <th></th>\n",
       "      <th>EventName</th>\n",
       "      <th>DeviceIDHash</th>\n",
       "      <th>EventTimestamp</th>\n",
       "      <th>ExpId</th>\n",
       "    </tr>\n",
       "  </thead>\n",
       "  <tbody>\n",
       "    <tr>\n",
       "      <th>0</th>\n",
       "      <td>MainScreenAppear</td>\n",
       "      <td>4575588528974610257</td>\n",
       "      <td>1564029816</td>\n",
       "      <td>246</td>\n",
       "    </tr>\n",
       "    <tr>\n",
       "      <th>1</th>\n",
       "      <td>MainScreenAppear</td>\n",
       "      <td>7416695313311560658</td>\n",
       "      <td>1564053102</td>\n",
       "      <td>246</td>\n",
       "    </tr>\n",
       "    <tr>\n",
       "      <th>2</th>\n",
       "      <td>PaymentScreenSuccessful</td>\n",
       "      <td>3518123091307005509</td>\n",
       "      <td>1564054127</td>\n",
       "      <td>248</td>\n",
       "    </tr>\n",
       "    <tr>\n",
       "      <th>3</th>\n",
       "      <td>CartScreenAppear</td>\n",
       "      <td>3518123091307005509</td>\n",
       "      <td>1564054127</td>\n",
       "      <td>248</td>\n",
       "    </tr>\n",
       "    <tr>\n",
       "      <th>4</th>\n",
       "      <td>PaymentScreenSuccessful</td>\n",
       "      <td>6217807653094995999</td>\n",
       "      <td>1564055322</td>\n",
       "      <td>248</td>\n",
       "    </tr>\n",
       "    <tr>\n",
       "      <th>...</th>\n",
       "      <td>...</td>\n",
       "      <td>...</td>\n",
       "      <td>...</td>\n",
       "      <td>...</td>\n",
       "    </tr>\n",
       "    <tr>\n",
       "      <th>244121</th>\n",
       "      <td>MainScreenAppear</td>\n",
       "      <td>4599628364049201812</td>\n",
       "      <td>1565212345</td>\n",
       "      <td>247</td>\n",
       "    </tr>\n",
       "    <tr>\n",
       "      <th>244122</th>\n",
       "      <td>MainScreenAppear</td>\n",
       "      <td>5849806612437486590</td>\n",
       "      <td>1565212439</td>\n",
       "      <td>246</td>\n",
       "    </tr>\n",
       "    <tr>\n",
       "      <th>244123</th>\n",
       "      <td>MainScreenAppear</td>\n",
       "      <td>5746969938801999050</td>\n",
       "      <td>1565212483</td>\n",
       "      <td>246</td>\n",
       "    </tr>\n",
       "    <tr>\n",
       "      <th>244124</th>\n",
       "      <td>MainScreenAppear</td>\n",
       "      <td>5746969938801999050</td>\n",
       "      <td>1565212498</td>\n",
       "      <td>246</td>\n",
       "    </tr>\n",
       "    <tr>\n",
       "      <th>244125</th>\n",
       "      <td>OffersScreenAppear</td>\n",
       "      <td>5746969938801999050</td>\n",
       "      <td>1565212517</td>\n",
       "      <td>246</td>\n",
       "    </tr>\n",
       "  </tbody>\n",
       "</table>\n",
       "<p>244126 rows × 4 columns</p>\n",
       "</div>"
      ],
      "text/plain": [
       "                      EventName         DeviceIDHash  EventTimestamp  ExpId\n",
       "0              MainScreenAppear  4575588528974610257      1564029816    246\n",
       "1              MainScreenAppear  7416695313311560658      1564053102    246\n",
       "2       PaymentScreenSuccessful  3518123091307005509      1564054127    248\n",
       "3              CartScreenAppear  3518123091307005509      1564054127    248\n",
       "4       PaymentScreenSuccessful  6217807653094995999      1564055322    248\n",
       "...                         ...                  ...             ...    ...\n",
       "244121         MainScreenAppear  4599628364049201812      1565212345    247\n",
       "244122         MainScreenAppear  5849806612437486590      1565212439    246\n",
       "244123         MainScreenAppear  5746969938801999050      1565212483    246\n",
       "244124         MainScreenAppear  5746969938801999050      1565212498    246\n",
       "244125       OffersScreenAppear  5746969938801999050      1565212517    246\n",
       "\n",
       "[244126 rows x 4 columns]"
      ]
     },
     "execution_count": 3,
     "metadata": {},
     "output_type": "execute_result"
    }
   ],
   "source": [
    "logs = pd.read_csv('/Users/Christian/Documents/Portfolio/AB TEST PROJECT/logs_exp_us.csv', sep='\\t')\n",
    "logs.info()\n",
    "print()\n",
    "logs"
   ]
  },
  {
   "cell_type": "markdown",
   "metadata": {},
   "source": [
    "<i> No hay valores ausentes, aunque algunas columnas no tienen el tipo de datos correcto. </i>"
   ]
  },
  {
   "cell_type": "markdown",
   "metadata": {},
   "source": [
    "# Paso 2. Preparar los datos para el análisis\n",
    "<a id=\"paso2\"></a>\n",
    "[Inicio](#Inicio)"
   ]
  },
  {
   "cell_type": "code",
   "execution_count": 4,
   "metadata": {},
   "outputs": [
    {
     "data": {
      "text/html": [
       "<div>\n",
       "<style scoped>\n",
       "    .dataframe tbody tr th:only-of-type {\n",
       "        vertical-align: middle;\n",
       "    }\n",
       "\n",
       "    .dataframe tbody tr th {\n",
       "        vertical-align: top;\n",
       "    }\n",
       "\n",
       "    .dataframe thead th {\n",
       "        text-align: right;\n",
       "    }\n",
       "</style>\n",
       "<table border=\"1\" class=\"dataframe\">\n",
       "  <thead>\n",
       "    <tr style=\"text-align: right;\">\n",
       "      <th></th>\n",
       "      <th>event</th>\n",
       "      <th>id</th>\n",
       "      <th>ts</th>\n",
       "      <th>group</th>\n",
       "    </tr>\n",
       "  </thead>\n",
       "  <tbody>\n",
       "    <tr>\n",
       "      <th>0</th>\n",
       "      <td>MainScreenAppear</td>\n",
       "      <td>4575588528974610257</td>\n",
       "      <td>1564029816</td>\n",
       "      <td>246</td>\n",
       "    </tr>\n",
       "    <tr>\n",
       "      <th>1</th>\n",
       "      <td>MainScreenAppear</td>\n",
       "      <td>7416695313311560658</td>\n",
       "      <td>1564053102</td>\n",
       "      <td>246</td>\n",
       "    </tr>\n",
       "    <tr>\n",
       "      <th>2</th>\n",
       "      <td>PaymentScreenSuccessful</td>\n",
       "      <td>3518123091307005509</td>\n",
       "      <td>1564054127</td>\n",
       "      <td>248</td>\n",
       "    </tr>\n",
       "    <tr>\n",
       "      <th>3</th>\n",
       "      <td>CartScreenAppear</td>\n",
       "      <td>3518123091307005509</td>\n",
       "      <td>1564054127</td>\n",
       "      <td>248</td>\n",
       "    </tr>\n",
       "    <tr>\n",
       "      <th>4</th>\n",
       "      <td>PaymentScreenSuccessful</td>\n",
       "      <td>6217807653094995999</td>\n",
       "      <td>1564055322</td>\n",
       "      <td>248</td>\n",
       "    </tr>\n",
       "    <tr>\n",
       "      <th>...</th>\n",
       "      <td>...</td>\n",
       "      <td>...</td>\n",
       "      <td>...</td>\n",
       "      <td>...</td>\n",
       "    </tr>\n",
       "    <tr>\n",
       "      <th>244121</th>\n",
       "      <td>MainScreenAppear</td>\n",
       "      <td>4599628364049201812</td>\n",
       "      <td>1565212345</td>\n",
       "      <td>247</td>\n",
       "    </tr>\n",
       "    <tr>\n",
       "      <th>244122</th>\n",
       "      <td>MainScreenAppear</td>\n",
       "      <td>5849806612437486590</td>\n",
       "      <td>1565212439</td>\n",
       "      <td>246</td>\n",
       "    </tr>\n",
       "    <tr>\n",
       "      <th>244123</th>\n",
       "      <td>MainScreenAppear</td>\n",
       "      <td>5746969938801999050</td>\n",
       "      <td>1565212483</td>\n",
       "      <td>246</td>\n",
       "    </tr>\n",
       "    <tr>\n",
       "      <th>244124</th>\n",
       "      <td>MainScreenAppear</td>\n",
       "      <td>5746969938801999050</td>\n",
       "      <td>1565212498</td>\n",
       "      <td>246</td>\n",
       "    </tr>\n",
       "    <tr>\n",
       "      <th>244125</th>\n",
       "      <td>OffersScreenAppear</td>\n",
       "      <td>5746969938801999050</td>\n",
       "      <td>1565212517</td>\n",
       "      <td>246</td>\n",
       "    </tr>\n",
       "  </tbody>\n",
       "</table>\n",
       "<p>244126 rows × 4 columns</p>\n",
       "</div>"
      ],
      "text/plain": [
       "                          event                   id          ts  group\n",
       "0              MainScreenAppear  4575588528974610257  1564029816    246\n",
       "1              MainScreenAppear  7416695313311560658  1564053102    246\n",
       "2       PaymentScreenSuccessful  3518123091307005509  1564054127    248\n",
       "3              CartScreenAppear  3518123091307005509  1564054127    248\n",
       "4       PaymentScreenSuccessful  6217807653094995999  1564055322    248\n",
       "...                         ...                  ...         ...    ...\n",
       "244121         MainScreenAppear  4599628364049201812  1565212345    247\n",
       "244122         MainScreenAppear  5849806612437486590  1565212439    246\n",
       "244123         MainScreenAppear  5746969938801999050  1565212483    246\n",
       "244124         MainScreenAppear  5746969938801999050  1565212498    246\n",
       "244125       OffersScreenAppear  5746969938801999050  1565212517    246\n",
       "\n",
       "[244126 rows x 4 columns]"
      ]
     },
     "execution_count": 4,
     "metadata": {},
     "output_type": "execute_result"
    }
   ],
   "source": [
    "logs.rename(columns={'EventName':'event', 'DeviceIDHash':'id', 'EventTimestamp':'ts', 'ExpId':'group'}, inplace=True)\n",
    "logs"
   ]
  },
  {
   "cell_type": "code",
   "execution_count": 5,
   "metadata": {},
   "outputs": [
    {
     "name": "stdout",
     "output_type": "stream",
     "text": [
      "<class 'pandas.core.frame.DataFrame'>\n",
      "RangeIndex: 244126 entries, 0 to 244125\n",
      "Data columns (total 6 columns):\n",
      " #   Column  Non-Null Count   Dtype   \n",
      "---  ------  --------------   -----   \n",
      " 0   event   244126 non-null  object  \n",
      " 1   id      244126 non-null  object  \n",
      " 2   ts      244126 non-null  object  \n",
      " 3   group   244126 non-null  category\n",
      " 4   date    244126 non-null  object  \n",
      " 5   time    244126 non-null  object  \n",
      "dtypes: category(1), object(5)\n",
      "memory usage: 9.5+ MB\n"
     ]
    }
   ],
   "source": [
    "logs['id'] = logs['id'].astype(str)\n",
    "logs['ts'] = pd.to_datetime(logs['ts'], unit='s')\n",
    "logs['ts'] = logs['ts'].dt.strftime('%Y-%m-%d %H:%M:%S')\n",
    "logs[['date','time']] = logs['ts'].str.split(' ', expand=True, n=1)\n",
    "logs['group'] = logs['group'].astype('category')\n",
    "logs.info()"
   ]
  },
  {
   "cell_type": "code",
   "execution_count": 6,
   "metadata": {
    "scrolled": true
   },
   "outputs": [
    {
     "data": {
      "text/html": [
       "<div>\n",
       "<style scoped>\n",
       "    .dataframe tbody tr th:only-of-type {\n",
       "        vertical-align: middle;\n",
       "    }\n",
       "\n",
       "    .dataframe tbody tr th {\n",
       "        vertical-align: top;\n",
       "    }\n",
       "\n",
       "    .dataframe thead th {\n",
       "        text-align: right;\n",
       "    }\n",
       "</style>\n",
       "<table border=\"1\" class=\"dataframe\">\n",
       "  <thead>\n",
       "    <tr style=\"text-align: right;\">\n",
       "      <th></th>\n",
       "      <th>event</th>\n",
       "      <th>id</th>\n",
       "      <th>ts</th>\n",
       "      <th>group</th>\n",
       "      <th>date</th>\n",
       "      <th>time</th>\n",
       "    </tr>\n",
       "  </thead>\n",
       "  <tbody>\n",
       "    <tr>\n",
       "      <th>0</th>\n",
       "      <td>MainScreenAppear</td>\n",
       "      <td>4575588528974610257</td>\n",
       "      <td>2019-07-25 04:43:36</td>\n",
       "      <td>246</td>\n",
       "      <td>2019-07-25</td>\n",
       "      <td>04:43:36</td>\n",
       "    </tr>\n",
       "    <tr>\n",
       "      <th>1</th>\n",
       "      <td>MainScreenAppear</td>\n",
       "      <td>7416695313311560658</td>\n",
       "      <td>2019-07-25 11:11:42</td>\n",
       "      <td>246</td>\n",
       "      <td>2019-07-25</td>\n",
       "      <td>11:11:42</td>\n",
       "    </tr>\n",
       "  </tbody>\n",
       "</table>\n",
       "</div>"
      ],
      "text/plain": [
       "              event                   id                   ts group  \\\n",
       "0  MainScreenAppear  4575588528974610257  2019-07-25 04:43:36   246   \n",
       "1  MainScreenAppear  7416695313311560658  2019-07-25 11:11:42   246   \n",
       "\n",
       "         date      time  \n",
       "0  2019-07-25  04:43:36  \n",
       "1  2019-07-25  11:11:42  "
      ]
     },
     "execution_count": 6,
     "metadata": {},
     "output_type": "execute_result"
    }
   ],
   "source": [
    "logs.head(2)"
   ]
  },
  {
   "cell_type": "code",
   "execution_count": 7,
   "metadata": {},
   "outputs": [
    {
     "data": {
      "text/plain": [
       "np.int64(413)"
      ]
     },
     "execution_count": 7,
     "metadata": {},
     "output_type": "execute_result"
    }
   ],
   "source": [
    "logs.duplicated().sum()"
   ]
  },
  {
   "cell_type": "code",
   "execution_count": 8,
   "metadata": {},
   "outputs": [
    {
     "data": {
      "text/html": [
       "<div>\n",
       "<style scoped>\n",
       "    .dataframe tbody tr th:only-of-type {\n",
       "        vertical-align: middle;\n",
       "    }\n",
       "\n",
       "    .dataframe tbody tr th {\n",
       "        vertical-align: top;\n",
       "    }\n",
       "\n",
       "    .dataframe thead th {\n",
       "        text-align: right;\n",
       "    }\n",
       "</style>\n",
       "<table border=\"1\" class=\"dataframe\">\n",
       "  <thead>\n",
       "    <tr style=\"text-align: right;\">\n",
       "      <th></th>\n",
       "      <th>event</th>\n",
       "      <th>id</th>\n",
       "      <th>ts</th>\n",
       "      <th>group</th>\n",
       "      <th>date</th>\n",
       "      <th>time</th>\n",
       "    </tr>\n",
       "  </thead>\n",
       "  <tbody>\n",
       "    <tr>\n",
       "      <th>453</th>\n",
       "      <td>MainScreenAppear</td>\n",
       "      <td>5613408041324010552</td>\n",
       "      <td>2019-07-30 08:19:44</td>\n",
       "      <td>248</td>\n",
       "      <td>2019-07-30</td>\n",
       "      <td>08:19:44</td>\n",
       "    </tr>\n",
       "    <tr>\n",
       "      <th>2350</th>\n",
       "      <td>CartScreenAppear</td>\n",
       "      <td>1694940645335807244</td>\n",
       "      <td>2019-07-31 21:51:39</td>\n",
       "      <td>248</td>\n",
       "      <td>2019-07-31</td>\n",
       "      <td>21:51:39</td>\n",
       "    </tr>\n",
       "    <tr>\n",
       "      <th>3573</th>\n",
       "      <td>MainScreenAppear</td>\n",
       "      <td>434103746454591587</td>\n",
       "      <td>2019-08-01 02:59:37</td>\n",
       "      <td>248</td>\n",
       "      <td>2019-08-01</td>\n",
       "      <td>02:59:37</td>\n",
       "    </tr>\n",
       "    <tr>\n",
       "      <th>4076</th>\n",
       "      <td>MainScreenAppear</td>\n",
       "      <td>3761373764179762633</td>\n",
       "      <td>2019-08-01 03:47:46</td>\n",
       "      <td>247</td>\n",
       "      <td>2019-08-01</td>\n",
       "      <td>03:47:46</td>\n",
       "    </tr>\n",
       "    <tr>\n",
       "      <th>4803</th>\n",
       "      <td>MainScreenAppear</td>\n",
       "      <td>2835328739789306622</td>\n",
       "      <td>2019-08-01 04:44:01</td>\n",
       "      <td>248</td>\n",
       "      <td>2019-08-01</td>\n",
       "      <td>04:44:01</td>\n",
       "    </tr>\n",
       "    <tr>\n",
       "      <th>5641</th>\n",
       "      <td>CartScreenAppear</td>\n",
       "      <td>4248762472840564256</td>\n",
       "      <td>2019-08-01 05:36:04</td>\n",
       "      <td>248</td>\n",
       "      <td>2019-08-01</td>\n",
       "      <td>05:36:04</td>\n",
       "    </tr>\n",
       "    <tr>\n",
       "      <th>5875</th>\n",
       "      <td>PaymentScreenSuccessful</td>\n",
       "      <td>6427012997733591237</td>\n",
       "      <td>2019-08-01 05:47:32</td>\n",
       "      <td>248</td>\n",
       "      <td>2019-08-01</td>\n",
       "      <td>05:47:32</td>\n",
       "    </tr>\n",
       "    <tr>\n",
       "      <th>7249</th>\n",
       "      <td>OffersScreenAppear</td>\n",
       "      <td>7224691986599895551</td>\n",
       "      <td>2019-08-01 06:44:06</td>\n",
       "      <td>246</td>\n",
       "      <td>2019-08-01</td>\n",
       "      <td>06:44:06</td>\n",
       "    </tr>\n",
       "    <tr>\n",
       "      <th>8065</th>\n",
       "      <td>CartScreenAppear</td>\n",
       "      <td>8189122927585332969</td>\n",
       "      <td>2019-08-01 07:18:49</td>\n",
       "      <td>248</td>\n",
       "      <td>2019-08-01</td>\n",
       "      <td>07:18:49</td>\n",
       "    </tr>\n",
       "    <tr>\n",
       "      <th>9179</th>\n",
       "      <td>MainScreenAppear</td>\n",
       "      <td>2230705996155527339</td>\n",
       "      <td>2019-08-01 07:54:47</td>\n",
       "      <td>246</td>\n",
       "      <td>2019-08-01</td>\n",
       "      <td>07:54:47</td>\n",
       "    </tr>\n",
       "    <tr>\n",
       "      <th>9311</th>\n",
       "      <td>MainScreenAppear</td>\n",
       "      <td>5496043151846125970</td>\n",
       "      <td>2019-08-01 07:58:03</td>\n",
       "      <td>248</td>\n",
       "      <td>2019-08-01</td>\n",
       "      <td>07:58:03</td>\n",
       "    </tr>\n",
       "    <tr>\n",
       "      <th>9990</th>\n",
       "      <td>PaymentScreenSuccessful</td>\n",
       "      <td>7035352794299231933</td>\n",
       "      <td>2019-08-01 08:20:27</td>\n",
       "      <td>248</td>\n",
       "      <td>2019-08-01</td>\n",
       "      <td>08:20:27</td>\n",
       "    </tr>\n",
       "    <tr>\n",
       "      <th>12454</th>\n",
       "      <td>PaymentScreenSuccessful</td>\n",
       "      <td>5152160705477623487</td>\n",
       "      <td>2019-08-01 09:35:39</td>\n",
       "      <td>247</td>\n",
       "      <td>2019-08-01</td>\n",
       "      <td>09:35:39</td>\n",
       "    </tr>\n",
       "    <tr>\n",
       "      <th>13055</th>\n",
       "      <td>PaymentScreenSuccessful</td>\n",
       "      <td>6258460144399027762</td>\n",
       "      <td>2019-08-01 09:53:44</td>\n",
       "      <td>247</td>\n",
       "      <td>2019-08-01</td>\n",
       "      <td>09:53:44</td>\n",
       "    </tr>\n",
       "    <tr>\n",
       "      <th>14333</th>\n",
       "      <td>CartScreenAppear</td>\n",
       "      <td>1807104407388801321</td>\n",
       "      <td>2019-08-01 10:30:27</td>\n",
       "      <td>248</td>\n",
       "      <td>2019-08-01</td>\n",
       "      <td>10:30:27</td>\n",
       "    </tr>\n",
       "    <tr>\n",
       "      <th>15304</th>\n",
       "      <td>PaymentScreenSuccessful</td>\n",
       "      <td>8125832085431322921</td>\n",
       "      <td>2019-08-01 11:01:10</td>\n",
       "      <td>246</td>\n",
       "      <td>2019-08-01</td>\n",
       "      <td>11:01:10</td>\n",
       "    </tr>\n",
       "    <tr>\n",
       "      <th>15746</th>\n",
       "      <td>PaymentScreenSuccessful</td>\n",
       "      <td>2877433916175408776</td>\n",
       "      <td>2019-08-01 11:13:21</td>\n",
       "      <td>247</td>\n",
       "      <td>2019-08-01</td>\n",
       "      <td>11:13:21</td>\n",
       "    </tr>\n",
       "    <tr>\n",
       "      <th>15751</th>\n",
       "      <td>PaymentScreenSuccessful</td>\n",
       "      <td>3528217211962170139</td>\n",
       "      <td>2019-08-01 11:13:23</td>\n",
       "      <td>247</td>\n",
       "      <td>2019-08-01</td>\n",
       "      <td>11:13:23</td>\n",
       "    </tr>\n",
       "    <tr>\n",
       "      <th>15752</th>\n",
       "      <td>PaymentScreenSuccessful</td>\n",
       "      <td>3528217211962170139</td>\n",
       "      <td>2019-08-01 11:13:23</td>\n",
       "      <td>247</td>\n",
       "      <td>2019-08-01</td>\n",
       "      <td>11:13:23</td>\n",
       "    </tr>\n",
       "    <tr>\n",
       "      <th>15753</th>\n",
       "      <td>PaymentScreenSuccessful</td>\n",
       "      <td>3528217211962170139</td>\n",
       "      <td>2019-08-01 11:13:23</td>\n",
       "      <td>247</td>\n",
       "      <td>2019-08-01</td>\n",
       "      <td>11:13:23</td>\n",
       "    </tr>\n",
       "  </tbody>\n",
       "</table>\n",
       "</div>"
      ],
      "text/plain": [
       "                         event                   id                   ts  \\\n",
       "453           MainScreenAppear  5613408041324010552  2019-07-30 08:19:44   \n",
       "2350          CartScreenAppear  1694940645335807244  2019-07-31 21:51:39   \n",
       "3573          MainScreenAppear   434103746454591587  2019-08-01 02:59:37   \n",
       "4076          MainScreenAppear  3761373764179762633  2019-08-01 03:47:46   \n",
       "4803          MainScreenAppear  2835328739789306622  2019-08-01 04:44:01   \n",
       "5641          CartScreenAppear  4248762472840564256  2019-08-01 05:36:04   \n",
       "5875   PaymentScreenSuccessful  6427012997733591237  2019-08-01 05:47:32   \n",
       "7249        OffersScreenAppear  7224691986599895551  2019-08-01 06:44:06   \n",
       "8065          CartScreenAppear  8189122927585332969  2019-08-01 07:18:49   \n",
       "9179          MainScreenAppear  2230705996155527339  2019-08-01 07:54:47   \n",
       "9311          MainScreenAppear  5496043151846125970  2019-08-01 07:58:03   \n",
       "9990   PaymentScreenSuccessful  7035352794299231933  2019-08-01 08:20:27   \n",
       "12454  PaymentScreenSuccessful  5152160705477623487  2019-08-01 09:35:39   \n",
       "13055  PaymentScreenSuccessful  6258460144399027762  2019-08-01 09:53:44   \n",
       "14333         CartScreenAppear  1807104407388801321  2019-08-01 10:30:27   \n",
       "15304  PaymentScreenSuccessful  8125832085431322921  2019-08-01 11:01:10   \n",
       "15746  PaymentScreenSuccessful  2877433916175408776  2019-08-01 11:13:21   \n",
       "15751  PaymentScreenSuccessful  3528217211962170139  2019-08-01 11:13:23   \n",
       "15752  PaymentScreenSuccessful  3528217211962170139  2019-08-01 11:13:23   \n",
       "15753  PaymentScreenSuccessful  3528217211962170139  2019-08-01 11:13:23   \n",
       "\n",
       "      group        date      time  \n",
       "453     248  2019-07-30  08:19:44  \n",
       "2350    248  2019-07-31  21:51:39  \n",
       "3573    248  2019-08-01  02:59:37  \n",
       "4076    247  2019-08-01  03:47:46  \n",
       "4803    248  2019-08-01  04:44:01  \n",
       "5641    248  2019-08-01  05:36:04  \n",
       "5875    248  2019-08-01  05:47:32  \n",
       "7249    246  2019-08-01  06:44:06  \n",
       "8065    248  2019-08-01  07:18:49  \n",
       "9179    246  2019-08-01  07:54:47  \n",
       "9311    248  2019-08-01  07:58:03  \n",
       "9990    248  2019-08-01  08:20:27  \n",
       "12454   247  2019-08-01  09:35:39  \n",
       "13055   247  2019-08-01  09:53:44  \n",
       "14333   248  2019-08-01  10:30:27  \n",
       "15304   246  2019-08-01  11:01:10  \n",
       "15746   247  2019-08-01  11:13:21  \n",
       "15751   247  2019-08-01  11:13:23  \n",
       "15752   247  2019-08-01  11:13:23  \n",
       "15753   247  2019-08-01  11:13:23  "
      ]
     },
     "execution_count": 8,
     "metadata": {},
     "output_type": "execute_result"
    }
   ],
   "source": [
    "dups = logs[logs.duplicated()]\n",
    "dups.sort_values(by='ts').head(20)"
   ]
  },
  {
   "cell_type": "markdown",
   "metadata": {},
   "source": [
    "<i> Parece que existen 413 registros duplicados que al examinar más de cerca, denotan un posible problema con la pantalla de pago exitoso. </i>"
   ]
  },
  {
   "cell_type": "code",
   "execution_count": 9,
   "metadata": {},
   "outputs": [
    {
     "name": "stdout",
     "output_type": "stream",
     "text": [
      "<class 'pandas.core.frame.DataFrame'>\n",
      "Index: 243713 entries, 0 to 244125\n",
      "Data columns (total 6 columns):\n",
      " #   Column  Non-Null Count   Dtype   \n",
      "---  ------  --------------   -----   \n",
      " 0   event   243713 non-null  object  \n",
      " 1   id      243713 non-null  object  \n",
      " 2   ts      243713 non-null  object  \n",
      " 3   group   243713 non-null  category\n",
      " 4   date    243713 non-null  object  \n",
      " 5   time    243713 non-null  object  \n",
      "dtypes: category(1), object(5)\n",
      "memory usage: 11.4+ MB\n"
     ]
    }
   ],
   "source": [
    "logs = logs.drop_duplicates()\n",
    "logs.info()"
   ]
  },
  {
   "cell_type": "markdown",
   "metadata": {},
   "source": [
    "# Paso 3. Estudiar y comprobar los datos\n",
    "<a id=\"paso3\"></a>\n",
    "[Inicio](#Inicio)"
   ]
  },
  {
   "cell_type": "markdown",
   "metadata": {},
   "source": [
    "## ¿Cuántos eventos hay en los registros?\n",
    "<a id=\"event_number\"></a>\n",
    "[Inicio](#Inicio)"
   ]
  },
  {
   "cell_type": "code",
   "execution_count": 10,
   "metadata": {},
   "outputs": [
    {
     "data": {
      "text/plain": [
       "np.int64(243713)"
      ]
     },
     "execution_count": 10,
     "metadata": {},
     "output_type": "execute_result"
    }
   ],
   "source": [
    "logs['event'].count()"
   ]
  },
  {
   "cell_type": "markdown",
   "metadata": {},
   "source": [
    "<i> Tenemos un total de 243,713 registros de eventos. </i>"
   ]
  },
  {
   "cell_type": "markdown",
   "metadata": {},
   "source": [
    "## ¿Cuántos usuarios y usuarias hay en los registros?\n",
    "<a id=\"user_number\"></a>\n",
    "[Inicio](#Inicio)"
   ]
  },
  {
   "cell_type": "code",
   "execution_count": 11,
   "metadata": {},
   "outputs": [
    {
     "data": {
      "text/plain": [
       "7551"
      ]
     },
     "execution_count": 11,
     "metadata": {},
     "output_type": "execute_result"
    }
   ],
   "source": [
    "logs['id'].nunique()"
   ]
  },
  {
   "cell_type": "markdown",
   "metadata": {},
   "source": [
    "<i> Hay 7,551 usuarios registrados. </i>"
   ]
  },
  {
   "cell_type": "markdown",
   "metadata": {},
   "source": [
    "## ¿Cuál es el promedio de eventos por usuario?\n",
    "<a id=\"avg_events\"></a>\n",
    "[Inicio](#Inicio)"
   ]
  },
  {
   "cell_type": "code",
   "execution_count": 12,
   "metadata": {},
   "outputs": [
    {
     "data": {
      "text/plain": [
       "np.float64(32.0)"
      ]
     },
     "execution_count": 12,
     "metadata": {},
     "output_type": "execute_result"
    }
   ],
   "source": [
    "logs.groupby('id')['event'].count().mean().round()"
   ]
  },
  {
   "cell_type": "markdown",
   "metadata": {},
   "source": [
    "<i> En promedio cada usuario registró 32 eventos. </i>"
   ]
  },
  {
   "cell_type": "markdown",
   "metadata": {},
   "source": [
    "## ¿Qué periodo de tiempo cubren los datos? Encuentra la fecha máxima y mínima.\n",
    "<a id=\"period\"></a>\n",
    "[Inicio](#Inicio)"
   ]
  },
  {
   "cell_type": "code",
   "execution_count": 13,
   "metadata": {},
   "outputs": [
    {
     "name": "stdout",
     "output_type": "stream",
     "text": [
      "2019-07-25 04:43:36\n",
      "2019-08-07 21:15:17\n"
     ]
    }
   ],
   "source": [
    "print(logs['ts'].min())\n",
    "print(logs['ts'].max())"
   ]
  },
  {
   "cell_type": "markdown",
   "metadata": {},
   "source": [
    "<i> El periódo comprendido es del 25 de julio al 07 de agosto. </i>"
   ]
  },
  {
   "cell_type": "markdown",
   "metadata": {},
   "source": [
    "## Traza un histograma por fecha y hora. \n",
    "<a id=\"hist\"></a>\n",
    "[Inicio](#Inicio)"
   ]
  },
  {
   "cell_type": "code",
   "execution_count": 14,
   "metadata": {
    "scrolled": true
   },
   "outputs": [
    {
     "data": {
      "image/png": "[encoded data removed]",
      "text/plain": [
       "<Figure size 640x480 with 1 Axes>"
      ]
     },
     "metadata": {},
     "output_type": "display_data"
    },
    {
     "data": {
      "text/plain": [
       "<Figure size 1000x500 with 0 Axes>"
      ]
     },
     "metadata": {},
     "output_type": "display_data"
    }
   ],
   "source": [
    "logs['date'].hist(grid=False, bins=15)\n",
    "plt.xticks(rotation=90)\n",
    "plt.figure(figsize=(10,5))\n",
    "plt.show()"
   ]
  },
  {
   "cell_type": "markdown",
   "metadata": {},
   "source": [
    "<i> Podemos observar que el grueso de los registros comienza el 01 de agosto, por lo que los datos realmente sólo representan el periódo del 01 al 07 de agosto. Con la finalidad de evitar sesgos en los datos, deberemos eliminar los registros previos a esta fecha. </i>"
   ]
  },
  {
   "cell_type": "code",
   "execution_count": 15,
   "metadata": {},
   "outputs": [
    {
     "name": "stdout",
     "output_type": "stream",
     "text": [
      "<class 'pandas.core.frame.DataFrame'>\n",
      "Index: 204746 entries, 39057 to 244125\n",
      "Data columns (total 6 columns):\n",
      " #   Column  Non-Null Count   Dtype   \n",
      "---  ------  --------------   -----   \n",
      " 0   event   204746 non-null  object  \n",
      " 1   id      204746 non-null  object  \n",
      " 2   ts      204746 non-null  object  \n",
      " 3   group   204746 non-null  category\n",
      " 4   date    204746 non-null  object  \n",
      " 5   time    204746 non-null  object  \n",
      "dtypes: category(1), object(5)\n",
      "memory usage: 9.6+ MB\n"
     ]
    }
   ],
   "source": [
    "logs = logs[logs['date'] > '2019-08-01']\n",
    "logs.info()"
   ]
  },
  {
   "cell_type": "markdown",
   "metadata": {},
   "source": [
    "<i> El número de registros pasó de 243,713 a 204,746. Se excluyeron un total de 38,967 registros del periódo anterior al 01 de agosto, lo que representa el 16% del total de los registros. Considerando el tamaño de la muestra, es un porcentaje aceptable para continuar con el análisis. </i>"
   ]
  },
  {
   "cell_type": "markdown",
   "metadata": {},
   "source": [
    "## Asegúrate de tener usuarios y usuarias de los tres grupos experimentales.\n",
    "<a id=\"users_groups\"></a>\n",
    "[Inicio](#Inicio)"
   ]
  },
  {
   "cell_type": "code",
   "execution_count": 16,
   "metadata": {},
   "outputs": [
    {
     "data": {
      "text/plain": [
       "group\n",
       "248    72289\n",
       "246    67741\n",
       "247    64716\n",
       "Name: count, dtype: int64"
      ]
     },
     "execution_count": 16,
     "metadata": {},
     "output_type": "execute_result"
    }
   ],
   "source": [
    "logs['group'].value_counts()"
   ]
  },
  {
   "cell_type": "markdown",
   "metadata": {},
   "source": [
    "<i> Conservamos una cantidad razonable de registros tanto de los grupos de control como del grupo experimental. </i>"
   ]
  },
  {
   "cell_type": "markdown",
   "metadata": {},
   "source": [
    "# Paso 4. Estudiar el embudo de eventos\n",
    "<a id=\"paso4\"></a>\n",
    "[Inicio](#Inicio)"
   ]
  },
  {
   "cell_type": "markdown",
   "metadata": {},
   "source": [
    "## Observa qué eventos hay en los registros y su frecuencia de suceso. Ordénalos por frecuencia."
   ]
  },
  {
   "cell_type": "code",
   "execution_count": 17,
   "metadata": {},
   "outputs": [
    {
     "data": {
      "text/html": [
       "<div>\n",
       "<style scoped>\n",
       "    .dataframe tbody tr th:only-of-type {\n",
       "        vertical-align: middle;\n",
       "    }\n",
       "\n",
       "    .dataframe tbody tr th {\n",
       "        vertical-align: top;\n",
       "    }\n",
       "\n",
       "    .dataframe thead th {\n",
       "        text-align: right;\n",
       "    }\n",
       "</style>\n",
       "<table border=\"1\" class=\"dataframe\">\n",
       "  <thead>\n",
       "    <tr style=\"text-align: right;\">\n",
       "      <th></th>\n",
       "      <th>event</th>\n",
       "      <th>total_logs</th>\n",
       "    </tr>\n",
       "  </thead>\n",
       "  <tbody>\n",
       "    <tr>\n",
       "      <th>1</th>\n",
       "      <td>MainScreenAppear</td>\n",
       "      <td>99383</td>\n",
       "    </tr>\n",
       "    <tr>\n",
       "      <th>2</th>\n",
       "      <td>OffersScreenAppear</td>\n",
       "      <td>39345</td>\n",
       "    </tr>\n",
       "    <tr>\n",
       "      <th>0</th>\n",
       "      <td>CartScreenAppear</td>\n",
       "      <td>36086</td>\n",
       "    </tr>\n",
       "    <tr>\n",
       "      <th>3</th>\n",
       "      <td>PaymentScreenSuccessful</td>\n",
       "      <td>29147</td>\n",
       "    </tr>\n",
       "    <tr>\n",
       "      <th>4</th>\n",
       "      <td>Tutorial</td>\n",
       "      <td>785</td>\n",
       "    </tr>\n",
       "  </tbody>\n",
       "</table>\n",
       "</div>"
      ],
      "text/plain": [
       "                     event  total_logs\n",
       "1         MainScreenAppear       99383\n",
       "2       OffersScreenAppear       39345\n",
       "0         CartScreenAppear       36086\n",
       "3  PaymentScreenSuccessful       29147\n",
       "4                 Tutorial         785"
      ]
     },
     "execution_count": 17,
     "metadata": {},
     "output_type": "execute_result"
    }
   ],
   "source": [
    "event_totals = logs.groupby('event')['id'].count().reset_index()\n",
    "event_totals.rename(columns={'id':'total_logs'}, inplace=True)\n",
    "event_totals = event_totals.sort_values(by='total_logs', ascending=False)\n",
    "event_totals"
   ]
  },
  {
   "cell_type": "markdown",
   "metadata": {},
   "source": [
    "## Encuentra la cantidad de usuarios y usuarias que realizaron cada una de estas acciones. Ordena los eventos por el número de usuarios y usuarias. Calcula la proporción de usuarios y usuarias que realizaron la acción al menos una vez."
   ]
  },
  {
   "cell_type": "code",
   "execution_count": 18,
   "metadata": {},
   "outputs": [
    {
     "data": {
      "text/html": [
       "<div>\n",
       "<style scoped>\n",
       "    .dataframe tbody tr th:only-of-type {\n",
       "        vertical-align: middle;\n",
       "    }\n",
       "\n",
       "    .dataframe tbody tr th {\n",
       "        vertical-align: top;\n",
       "    }\n",
       "\n",
       "    .dataframe thead th {\n",
       "        text-align: right;\n",
       "    }\n",
       "</style>\n",
       "<table border=\"1\" class=\"dataframe\">\n",
       "  <thead>\n",
       "    <tr style=\"text-align: right;\">\n",
       "      <th></th>\n",
       "      <th>event</th>\n",
       "      <th>users</th>\n",
       "    </tr>\n",
       "  </thead>\n",
       "  <tbody>\n",
       "    <tr>\n",
       "      <th>1</th>\n",
       "      <td>MainScreenAppear</td>\n",
       "      <td>7156</td>\n",
       "    </tr>\n",
       "    <tr>\n",
       "      <th>2</th>\n",
       "      <td>OffersScreenAppear</td>\n",
       "      <td>4380</td>\n",
       "    </tr>\n",
       "    <tr>\n",
       "      <th>0</th>\n",
       "      <td>CartScreenAppear</td>\n",
       "      <td>3571</td>\n",
       "    </tr>\n",
       "    <tr>\n",
       "      <th>3</th>\n",
       "      <td>PaymentScreenSuccessful</td>\n",
       "      <td>3399</td>\n",
       "    </tr>\n",
       "    <tr>\n",
       "      <th>4</th>\n",
       "      <td>Tutorial</td>\n",
       "      <td>690</td>\n",
       "    </tr>\n",
       "  </tbody>\n",
       "</table>\n",
       "</div>"
      ],
      "text/plain": [
       "                     event  users\n",
       "1         MainScreenAppear   7156\n",
       "2       OffersScreenAppear   4380\n",
       "0         CartScreenAppear   3571\n",
       "3  PaymentScreenSuccessful   3399\n",
       "4                 Tutorial    690"
      ]
     },
     "execution_count": 18,
     "metadata": {},
     "output_type": "execute_result"
    }
   ],
   "source": [
    "events = logs.groupby('event')['id'].nunique().reset_index().sort_values(by='id', ascending=False)\n",
    "events.rename(columns={'id':'users'}, inplace=True)\n",
    "events"
   ]
  },
  {
   "cell_type": "code",
   "execution_count": 19,
   "metadata": {},
   "outputs": [
    {
     "data": {
      "application/vnd.plotly.v1+json": {
       "config": {
        "plotlyServerURL": "https://plot.ly"
       },
       "data": [
        {
         "labels": [
          "MainScreenAppear",
          "OffersScreenAppear",
          "CartScreenAppear",
          "PaymentScreenSuccessful",
          "Tutorial"
         ],
         "type": "pie",
         "values": [
          7156,
          4380,
          3571,
          3399,
          690
         ]
        }
       ],
       "layout": {
        "template": {
         "data": {
          "bar": [
           {
            "error_x": {
             "color": "#2a3f5f"
            },
            "error_y": {
             "color": "#2a3f5f"
            },
            "marker": {
             "line": {
              "color": "#E5ECF6",
              "width": 0.5
             },
             "pattern": {
              "fillmode": "overlay",
              "size": 10,
              "solidity": 0.2
             }
            },
            "type": "bar"
           }
          ],
          "barpolar": [
           {
            "marker": {
             "line": {
              "color": "#E5ECF6",
              "width": 0.5
             },
             "pattern": {
              "fillmode": "overlay",
              "size": 10,
              "solidity": 0.2
             }
            },
            "type": "barpolar"
           }
          ],
          "carpet": [
           {
            "aaxis": {
             "endlinecolor": "#2a3f5f",
             "gridcolor": "white",
             "linecolor": "white",
             "minorgridcolor": "white",
             "startlinecolor": "#2a3f5f"
            },
            "baxis": {
             "endlinecolor": "#2a3f5f",
             "gridcolor": "white",
             "linecolor": "white",
             "minorgridcolor": "white",
             "startlinecolor": "#2a3f5f"
            },
            "type": "carpet"
           }
          ],
          "choropleth": [
           {
            "colorbar": {
             "outlinewidth": 0,
             "ticks": ""
            },
            "type": "choropleth"
           }
          ],
          "contour": [
           {
            "colorbar": {
             "outlinewidth": 0,
             "ticks": ""
            },
            "colorscale": [
             [
              0,
              "#0d0887"
             ],
             [
              0.1111111111111111,
              "#46039f"
             ],
             [
              0.2222222222222222,
              "#7201a8"
             ],
             [
              0.3333333333333333,
              "#9c179e"
             ],
             [
              0.4444444444444444,
              "#bd3786"
             ],
             [
              0.5555555555555556,
              "#d8576b"
             ],
             [
              0.6666666666666666,
              "#ed7953"
             ],
             [
              0.7777777777777778,
              "#fb9f3a"
             ],
             [
              0.8888888888888888,
              "#fdca26"
             ],
             [
              1,
              "#f0f921"
             ]
            ],
            "type": "contour"
           }
          ],
          "contourcarpet": [
           {
            "colorbar": {
             "outlinewidth": 0,
             "ticks": ""
            },
            "type": "contourcarpet"
           }
          ],
          "heatmap": [
           {
            "colorbar": {
             "outlinewidth": 0,
             "ticks": ""
            },
            "colorscale": [
             [
              0,
              "#0d0887"
             ],
             [
              0.1111111111111111,
              "#46039f"
             ],
             [
              0.2222222222222222,
              "#7201a8"
             ],
             [
              0.3333333333333333,
              "#9c179e"
             ],
             [
              0.4444444444444444,
              "#bd3786"
             ],
             [
              0.5555555555555556,
              "#d8576b"
             ],
             [
              0.6666666666666666,
              "#ed7953"
             ],
             [
              0.7777777777777778,
              "#fb9f3a"
             ],
             [
              0.8888888888888888,
              "#fdca26"
             ],
             [
              1,
              "#f0f921"
             ]
            ],
            "type": "heatmap"
           }
          ],
          "heatmapgl": [
           {
            "colorbar": {
             "outlinewidth": 0,
             "ticks": ""
            },
            "colorscale": [
             [
              0,
              "#0d0887"
             ],
             [
              0.1111111111111111,
              "#46039f"
             ],
             [
              0.2222222222222222,
              "#7201a8"
             ],
             [
              0.3333333333333333,
              "#9c179e"
             ],
             [
              0.4444444444444444,
              "#bd3786"
             ],
             [
              0.5555555555555556,
              "#d8576b"
             ],
             [
              0.6666666666666666,
              "#ed7953"
             ],
             [
              0.7777777777777778,
              "#fb9f3a"
             ],
             [
              0.8888888888888888,
              "#fdca26"
             ],
             [
              1,
              "#f0f921"
             ]
            ],
            "type": "heatmapgl"
           }
          ],
          "histogram": [
           {
            "marker": {
             "pattern": {
              "fillmode": "overlay",
              "size": 10,
              "solidity": 0.2
             }
            },
            "type": "histogram"
           }
          ],
          "histogram2d": [
           {
            "colorbar": {
             "outlinewidth": 0,
             "ticks": ""
            },
            "colorscale": [
             [
              0,
              "#0d0887"
             ],
             [
              0.1111111111111111,
              "#46039f"
             ],
             [
              0.2222222222222222,
              "#7201a8"
             ],
             [
              0.3333333333333333,
              "#9c179e"
             ],
             [
              0.4444444444444444,
              "#bd3786"
             ],
             [
              0.5555555555555556,
              "#d8576b"
             ],
             [
              0.6666666666666666,
              "#ed7953"
             ],
             [
              0.7777777777777778,
              "#fb9f3a"
             ],
             [
              0.8888888888888888,
              "#fdca26"
             ],
             [
              1,
              "#f0f921"
             ]
            ],
            "type": "histogram2d"
           }
          ],
          "histogram2dcontour": [
           {
            "colorbar": {
             "outlinewidth": 0,
             "ticks": ""
            },
            "colorscale": [
             [
              0,
              "#0d0887"
             ],
             [
              0.1111111111111111,
              "#46039f"
             ],
             [
              0.2222222222222222,
              "#7201a8"
             ],
             [
              0.3333333333333333,
              "#9c179e"
             ],
             [
              0.4444444444444444,
              "#bd3786"
             ],
             [
              0.5555555555555556,
              "#d8576b"
             ],
             [
              0.6666666666666666,
              "#ed7953"
             ],
             [
              0.7777777777777778,
              "#fb9f3a"
             ],
             [
              0.8888888888888888,
              "#fdca26"
             ],
             [
              1,
              "#f0f921"
             ]
            ],
            "type": "histogram2dcontour"
           }
          ],
          "mesh3d": [
           {
            "colorbar": {
             "outlinewidth": 0,
             "ticks": ""
            },
            "type": "mesh3d"
           }
          ],
          "parcoords": [
           {
            "line": {
             "colorbar": {
              "outlinewidth": 0,
              "ticks": ""
             }
            },
            "type": "parcoords"
           }
          ],
          "pie": [
           {
            "automargin": true,
            "type": "pie"
           }
          ],
          "scatter": [
           {
            "fillpattern": {
             "fillmode": "overlay",
             "size": 10,
             "solidity": 0.2
            },
            "type": "scatter"
           }
          ],
          "scatter3d": [
           {
            "line": {
             "colorbar": {
              "outlinewidth": 0,
              "ticks": ""
             }
            },
            "marker": {
             "colorbar": {
              "outlinewidth": 0,
              "ticks": ""
             }
            },
            "type": "scatter3d"
           }
          ],
          "scattercarpet": [
           {
            "marker": {
             "colorbar": {
              "outlinewidth": 0,
              "ticks": ""
             }
            },
            "type": "scattercarpet"
           }
          ],
          "scattergeo": [
           {
            "marker": {
             "colorbar": {
              "outlinewidth": 0,
              "ticks": ""
             }
            },
            "type": "scattergeo"
           }
          ],
          "scattergl": [
           {
            "marker": {
             "colorbar": {
              "outlinewidth": 0,
              "ticks": ""
             }
            },
            "type": "scattergl"
           }
          ],
          "scattermapbox": [
           {
            "marker": {
             "colorbar": {
              "outlinewidth": 0,
              "ticks": ""
             }
            },
            "type": "scattermapbox"
           }
          ],
          "scatterpolar": [
           {
            "marker": {
             "colorbar": {
              "outlinewidth": 0,
              "ticks": ""
             }
            },
            "type": "scatterpolar"
           }
          ],
          "scatterpolargl": [
           {
            "marker": {
             "colorbar": {
              "outlinewidth": 0,
              "ticks": ""
             }
            },
            "type": "scatterpolargl"
           }
          ],
          "scatterternary": [
           {
            "marker": {
             "colorbar": {
              "outlinewidth": 0,
              "ticks": ""
             }
            },
            "type": "scatterternary"
           }
          ],
          "surface": [
           {
            "colorbar": {
             "outlinewidth": 0,
             "ticks": ""
            },
            "colorscale": [
             [
              0,
              "#0d0887"
             ],
             [
              0.1111111111111111,
              "#46039f"
             ],
             [
              0.2222222222222222,
              "#7201a8"
             ],
             [
              0.3333333333333333,
              "#9c179e"
             ],
             [
              0.4444444444444444,
              "#bd3786"
             ],
             [
              0.5555555555555556,
              "#d8576b"
             ],
             [
              0.6666666666666666,
              "#ed7953"
             ],
             [
              0.7777777777777778,
              "#fb9f3a"
             ],
             [
              0.8888888888888888,
              "#fdca26"
             ],
             [
              1,
              "#f0f921"
             ]
            ],
            "type": "surface"
           }
          ],
          "table": [
           {
            "cells": {
             "fill": {
              "color": "#EBF0F8"
             },
             "line": {
              "color": "white"
             }
            },
            "header": {
             "fill": {
              "color": "#C8D4E3"
             },
             "line": {
              "color": "white"
             }
            },
            "type": "table"
           }
          ]
         },
         "layout": {
          "annotationdefaults": {
           "arrowcolor": "#2a3f5f",
           "arrowhead": 0,
           "arrowwidth": 1
          },
          "autotypenumbers": "strict",
          "coloraxis": {
           "colorbar": {
            "outlinewidth": 0,
            "ticks": ""
           }
          },
          "colorscale": {
           "diverging": [
            [
             0,
             "#8e0152"
            ],
            [
             0.1,
             "#c51b7d"
            ],
            [
             0.2,
             "#de77ae"
            ],
            [
             0.3,
             "#f1b6da"
            ],
            [
             0.4,
             "#fde0ef"
            ],
            [
             0.5,
             "#f7f7f7"
            ],
            [
             0.6,
             "#e6f5d0"
            ],
            [
             0.7,
             "#b8e186"
            ],
            [
             0.8,
             "#7fbc41"
            ],
            [
             0.9,
             "#4d9221"
            ],
            [
             1,
             "#276419"
            ]
           ],
           "sequential": [
            [
             0,
             "#0d0887"
            ],
            [
             0.1111111111111111,
             "#46039f"
            ],
            [
             0.2222222222222222,
             "#7201a8"
            ],
            [
             0.3333333333333333,
             "#9c179e"
            ],
            [
             0.4444444444444444,
             "#bd3786"
            ],
            [
             0.5555555555555556,
             "#d8576b"
            ],
            [
             0.6666666666666666,
             "#ed7953"
            ],
            [
             0.7777777777777778,
             "#fb9f3a"
            ],
            [
             0.8888888888888888,
             "#fdca26"
            ],
            [
             1,
             "#f0f921"
            ]
           ],
           "sequentialminus": [
            [
             0,
             "#0d0887"
            ],
            [
             0.1111111111111111,
             "#46039f"
            ],
            [
             0.2222222222222222,
             "#7201a8"
            ],
            [
             0.3333333333333333,
             "#9c179e"
            ],
            [
             0.4444444444444444,
             "#bd3786"
            ],
            [
             0.5555555555555556,
             "#d8576b"
            ],
            [
             0.6666666666666666,
             "#ed7953"
            ],
            [
             0.7777777777777778,
             "#fb9f3a"
            ],
            [
             0.8888888888888888,
             "#fdca26"
            ],
            [
             1,
             "#f0f921"
            ]
           ]
          },
          "colorway": [
           "#636efa",
           "#EF553B",
           "#00cc96",
           "#ab63fa",
           "#FFA15A",
           "#19d3f3",
           "#FF6692",
           "#B6E880",
           "#FF97FF",
           "#FECB52"
          ],
          "font": {
           "color": "#2a3f5f"
          },
          "geo": {
           "bgcolor": "white",
           "lakecolor": "white",
           "landcolor": "#E5ECF6",
           "showlakes": true,
           "showland": true,
           "subunitcolor": "white"
          },
          "hoverlabel": {
           "align": "left"
          },
          "hovermode": "closest",
          "mapbox": {
           "style": "light"
          },
          "paper_bgcolor": "white",
          "plot_bgcolor": "#E5ECF6",
          "polar": {
           "angularaxis": {
            "gridcolor": "white",
            "linecolor": "white",
            "ticks": ""
           },
           "bgcolor": "#E5ECF6",
           "radialaxis": {
            "gridcolor": "white",
            "linecolor": "white",
            "ticks": ""
           }
          },
          "scene": {
           "xaxis": {
            "backgroundcolor": "#E5ECF6",
            "gridcolor": "white",
            "gridwidth": 2,
            "linecolor": "white",
            "showbackground": true,
            "ticks": "",
            "zerolinecolor": "white"
           },
           "yaxis": {
            "backgroundcolor": "#E5ECF6",
            "gridcolor": "white",
            "gridwidth": 2,
            "linecolor": "white",
            "showbackground": true,
            "ticks": "",
            "zerolinecolor": "white"
           },
           "zaxis": {
            "backgroundcolor": "#E5ECF6",
            "gridcolor": "white",
            "gridwidth": 2,
            "linecolor": "white",
            "showbackground": true,
            "ticks": "",
            "zerolinecolor": "white"
           }
          },
          "shapedefaults": {
           "line": {
            "color": "#2a3f5f"
           }
          },
          "ternary": {
           "aaxis": {
            "gridcolor": "white",
            "linecolor": "white",
            "ticks": ""
           },
           "baxis": {
            "gridcolor": "white",
            "linecolor": "white",
            "ticks": ""
           },
           "bgcolor": "#E5ECF6",
           "caxis": {
            "gridcolor": "white",
            "linecolor": "white",
            "ticks": ""
           }
          },
          "title": {
           "x": 0.05
          },
          "xaxis": {
           "automargin": true,
           "gridcolor": "white",
           "linecolor": "white",
           "ticks": "",
           "title": {
            "standoff": 15
           },
           "zerolinecolor": "white",
           "zerolinewidth": 2
          },
          "yaxis": {
           "automargin": true,
           "gridcolor": "white",
           "linecolor": "white",
           "ticks": "",
           "title": {
            "standoff": 15
           },
           "zerolinecolor": "white",
           "zerolinewidth": 2
          }
         }
        },
        "title": {
         "text": "Proporción de usuarios que realizaron la acción al menos una vez"
        }
       }
      }
     },
     "metadata": {},
     "output_type": "display_data"
    }
   ],
   "source": [
    "fig0 = go.Figure(data=[go.Pie(labels=events['event'], values=events['users'])])\n",
    "fig0.update_layout(title_text='Proporción de usuarios que realizaron la acción al menos una vez')\n",
    "fig0.show()"
   ]
  },
  {
   "cell_type": "markdown",
   "metadata": {},
   "source": [
    "## ¿En qué orden crees que ocurrieron las acciones? ¿Todas son parte de una sola secuencia? No es necesario tenerlas en cuenta al calcular el embudo.\n",
    "<a id=\"order\"></a>\n",
    "[inicio](#Inicio)"
   ]
  },
  {
   "cell_type": "markdown",
   "metadata": {},
   "source": [
    "<i> Podríamos pensar que la secuencia lógica de eventos sería MainScreenAppear > OffersScreenAppear > CartScreenAppear > PaymentScreenSuccessful y el tutorial aparece como una opción a ralizar dentro de la pantalla principal, de modo que algunos eligen tomarlo y otros no. Podemos inferir también que las acciones no necesariamente progresan de forma lineal, ya que alguien podría ver un producto en la pantalla principal y simplemente proceder al pago del mismo, o bien añadirlo al carrito pero no realizar el pago. </i>"
   ]
  },
  {
   "cell_type": "markdown",
   "metadata": {},
   "source": [
    "## Utiliza el embudo de eventos para encontrar la proporción de usuarios y usuarias que pasan de una etapa a la siguiente.\n",
    "<a id=\"embudo\"></a>\n",
    "[Inicio](#Inicio)"
   ]
  },
  {
   "cell_type": "code",
   "execution_count": 20,
   "metadata": {},
   "outputs": [
    {
     "data": {
      "application/vnd.plotly.v1+json": {
       "config": {
        "plotlyServerURL": "https://plot.ly"
       },
       "data": [
        {
         "type": "funnel",
         "x": [
          7156,
          4380,
          3571,
          3399,
          690
         ],
         "y": [
          "MainScreenAppear",
          "OffersScreenAppear",
          "CartScreenAppear",
          "PaymentScreenSuccessful",
          "Tutorial"
         ]
        }
       ],
       "layout": {
        "template": {
         "data": {
          "bar": [
           {
            "error_x": {
             "color": "#2a3f5f"
            },
            "error_y": {
             "color": "#2a3f5f"
            },
            "marker": {
             "line": {
              "color": "#E5ECF6",
              "width": 0.5
             },
             "pattern": {
              "fillmode": "overlay",
              "size": 10,
              "solidity": 0.2
             }
            },
            "type": "bar"
           }
          ],
          "barpolar": [
           {
            "marker": {
             "line": {
              "color": "#E5ECF6",
              "width": 0.5
             },
             "pattern": {
              "fillmode": "overlay",
              "size": 10,
              "solidity": 0.2
             }
            },
            "type": "barpolar"
           }
          ],
          "carpet": [
           {
            "aaxis": {
             "endlinecolor": "#2a3f5f",
             "gridcolor": "white",
             "linecolor": "white",
             "minorgridcolor": "white",
             "startlinecolor": "#2a3f5f"
            },
            "baxis": {
             "endlinecolor": "#2a3f5f",
             "gridcolor": "white",
             "linecolor": "white",
             "minorgridcolor": "white",
             "startlinecolor": "#2a3f5f"
            },
            "type": "carpet"
           }
          ],
          "choropleth": [
           {
            "colorbar": {
             "outlinewidth": 0,
             "ticks": ""
            },
            "type": "choropleth"
           }
          ],
          "contour": [
           {
            "colorbar": {
             "outlinewidth": 0,
             "ticks": ""
            },
            "colorscale": [
             [
              0,
              "#0d0887"
             ],
             [
              0.1111111111111111,
              "#46039f"
             ],
             [
              0.2222222222222222,
              "#7201a8"
             ],
             [
              0.3333333333333333,
              "#9c179e"
             ],
             [
              0.4444444444444444,
              "#bd3786"
             ],
             [
              0.5555555555555556,
              "#d8576b"
             ],
             [
              0.6666666666666666,
              "#ed7953"
             ],
             [
              0.7777777777777778,
              "#fb9f3a"
             ],
             [
              0.8888888888888888,
              "#fdca26"
             ],
             [
              1,
              "#f0f921"
             ]
            ],
            "type": "contour"
           }
          ],
          "contourcarpet": [
           {
            "colorbar": {
             "outlinewidth": 0,
             "ticks": ""
            },
            "type": "contourcarpet"
           }
          ],
          "heatmap": [
           {
            "colorbar": {
             "outlinewidth": 0,
             "ticks": ""
            },
            "colorscale": [
             [
              0,
              "#0d0887"
             ],
             [
              0.1111111111111111,
              "#46039f"
             ],
             [
              0.2222222222222222,
              "#7201a8"
             ],
             [
              0.3333333333333333,
              "#9c179e"
             ],
             [
              0.4444444444444444,
              "#bd3786"
             ],
             [
              0.5555555555555556,
              "#d8576b"
             ],
             [
              0.6666666666666666,
              "#ed7953"
             ],
             [
              0.7777777777777778,
              "#fb9f3a"
             ],
             [
              0.8888888888888888,
              "#fdca26"
             ],
             [
              1,
              "#f0f921"
             ]
            ],
            "type": "heatmap"
           }
          ],
          "heatmapgl": [
           {
            "colorbar": {
             "outlinewidth": 0,
             "ticks": ""
            },
            "colorscale": [
             [
              0,
              "#0d0887"
             ],
             [
              0.1111111111111111,
              "#46039f"
             ],
             [
              0.2222222222222222,
              "#7201a8"
             ],
             [
              0.3333333333333333,
              "#9c179e"
             ],
             [
              0.4444444444444444,
              "#bd3786"
             ],
             [
              0.5555555555555556,
              "#d8576b"
             ],
             [
              0.6666666666666666,
              "#ed7953"
             ],
             [
              0.7777777777777778,
              "#fb9f3a"
             ],
             [
              0.8888888888888888,
              "#fdca26"
             ],
             [
              1,
              "#f0f921"
             ]
            ],
            "type": "heatmapgl"
           }
          ],
          "histogram": [
           {
            "marker": {
             "pattern": {
              "fillmode": "overlay",
              "size": 10,
              "solidity": 0.2
             }
            },
            "type": "histogram"
           }
          ],
          "histogram2d": [
           {
            "colorbar": {
             "outlinewidth": 0,
             "ticks": ""
            },
            "colorscale": [
             [
              0,
              "#0d0887"
             ],
             [
              0.1111111111111111,
              "#46039f"
             ],
             [
              0.2222222222222222,
              "#7201a8"
             ],
             [
              0.3333333333333333,
              "#9c179e"
             ],
             [
              0.4444444444444444,
              "#bd3786"
             ],
             [
              0.5555555555555556,
              "#d8576b"
             ],
             [
              0.6666666666666666,
              "#ed7953"
             ],
             [
              0.7777777777777778,
              "#fb9f3a"
             ],
             [
              0.8888888888888888,
              "#fdca26"
             ],
             [
              1,
              "#f0f921"
             ]
            ],
            "type": "histogram2d"
           }
          ],
          "histogram2dcontour": [
           {
            "colorbar": {
             "outlinewidth": 0,
             "ticks": ""
            },
            "colorscale": [
             [
              0,
              "#0d0887"
             ],
             [
              0.1111111111111111,
              "#46039f"
             ],
             [
              0.2222222222222222,
              "#7201a8"
             ],
             [
              0.3333333333333333,
              "#9c179e"
             ],
             [
              0.4444444444444444,
              "#bd3786"
             ],
             [
              0.5555555555555556,
              "#d8576b"
             ],
             [
              0.6666666666666666,
              "#ed7953"
             ],
             [
              0.7777777777777778,
              "#fb9f3a"
             ],
             [
              0.8888888888888888,
              "#fdca26"
             ],
             [
              1,
              "#f0f921"
             ]
            ],
            "type": "histogram2dcontour"
           }
          ],
          "mesh3d": [
           {
            "colorbar": {
             "outlinewidth": 0,
             "ticks": ""
            },
            "type": "mesh3d"
           }
          ],
          "parcoords": [
           {
            "line": {
             "colorbar": {
              "outlinewidth": 0,
              "ticks": ""
             }
            },
            "type": "parcoords"
           }
          ],
          "pie": [
           {
            "automargin": true,
            "type": "pie"
           }
          ],
          "scatter": [
           {
            "fillpattern": {
             "fillmode": "overlay",
             "size": 10,
             "solidity": 0.2
            },
            "type": "scatter"
           }
          ],
          "scatter3d": [
           {
            "line": {
             "colorbar": {
              "outlinewidth": 0,
              "ticks": ""
             }
            },
            "marker": {
             "colorbar": {
              "outlinewidth": 0,
              "ticks": ""
             }
            },
            "type": "scatter3d"
           }
          ],
          "scattercarpet": [
           {
            "marker": {
             "colorbar": {
              "outlinewidth": 0,
              "ticks": ""
             }
            },
            "type": "scattercarpet"
           }
          ],
          "scattergeo": [
           {
            "marker": {
             "colorbar": {
              "outlinewidth": 0,
              "ticks": ""
             }
            },
            "type": "scattergeo"
           }
          ],
          "scattergl": [
           {
            "marker": {
             "colorbar": {
              "outlinewidth": 0,
              "ticks": ""
             }
            },
            "type": "scattergl"
           }
          ],
          "scattermapbox": [
           {
            "marker": {
             "colorbar": {
              "outlinewidth": 0,
              "ticks": ""
             }
            },
            "type": "scattermapbox"
           }
          ],
          "scatterpolar": [
           {
            "marker": {
             "colorbar": {
              "outlinewidth": 0,
              "ticks": ""
             }
            },
            "type": "scatterpolar"
           }
          ],
          "scatterpolargl": [
           {
            "marker": {
             "colorbar": {
              "outlinewidth": 0,
              "ticks": ""
             }
            },
            "type": "scatterpolargl"
           }
          ],
          "scatterternary": [
           {
            "marker": {
             "colorbar": {
              "outlinewidth": 0,
              "ticks": ""
             }
            },
            "type": "scatterternary"
           }
          ],
          "surface": [
           {
            "colorbar": {
             "outlinewidth": 0,
             "ticks": ""
            },
            "colorscale": [
             [
              0,
              "#0d0887"
             ],
             [
              0.1111111111111111,
              "#46039f"
             ],
             [
              0.2222222222222222,
              "#7201a8"
             ],
             [
              0.3333333333333333,
              "#9c179e"
             ],
             [
              0.4444444444444444,
              "#bd3786"
             ],
             [
              0.5555555555555556,
              "#d8576b"
             ],
             [
              0.6666666666666666,
              "#ed7953"
             ],
             [
              0.7777777777777778,
              "#fb9f3a"
             ],
             [
              0.8888888888888888,
              "#fdca26"
             ],
             [
              1,
              "#f0f921"
             ]
            ],
            "type": "surface"
           }
          ],
          "table": [
           {
            "cells": {
             "fill": {
              "color": "#EBF0F8"
             },
             "line": {
              "color": "white"
             }
            },
            "header": {
             "fill": {
              "color": "#C8D4E3"
             },
             "line": {
              "color": "white"
             }
            },
            "type": "table"
           }
          ]
         },
         "layout": {
          "annotationdefaults": {
           "arrowcolor": "#2a3f5f",
           "arrowhead": 0,
           "arrowwidth": 1
          },
          "autotypenumbers": "strict",
          "coloraxis": {
           "colorbar": {
            "outlinewidth": 0,
            "ticks": ""
           }
          },
          "colorscale": {
           "diverging": [
            [
             0,
             "#8e0152"
            ],
            [
             0.1,
             "#c51b7d"
            ],
            [
             0.2,
             "#de77ae"
            ],
            [
             0.3,
             "#f1b6da"
            ],
            [
             0.4,
             "#fde0ef"
            ],
            [
             0.5,
             "#f7f7f7"
            ],
            [
             0.6,
             "#e6f5d0"
            ],
            [
             0.7,
             "#b8e186"
            ],
            [
             0.8,
             "#7fbc41"
            ],
            [
             0.9,
             "#4d9221"
            ],
            [
             1,
             "#276419"
            ]
           ],
           "sequential": [
            [
             0,
             "#0d0887"
            ],
            [
             0.1111111111111111,
             "#46039f"
            ],
            [
             0.2222222222222222,
             "#7201a8"
            ],
            [
             0.3333333333333333,
             "#9c179e"
            ],
            [
             0.4444444444444444,
             "#bd3786"
            ],
            [
             0.5555555555555556,
             "#d8576b"
            ],
            [
             0.6666666666666666,
             "#ed7953"
            ],
            [
             0.7777777777777778,
             "#fb9f3a"
            ],
            [
             0.8888888888888888,
             "#fdca26"
            ],
            [
             1,
             "#f0f921"
            ]
           ],
           "sequentialminus": [
            [
             0,
             "#0d0887"
            ],
            [
             0.1111111111111111,
             "#46039f"
            ],
            [
             0.2222222222222222,
             "#7201a8"
            ],
            [
             0.3333333333333333,
             "#9c179e"
            ],
            [
             0.4444444444444444,
             "#bd3786"
            ],
            [
             0.5555555555555556,
             "#d8576b"
            ],
            [
             0.6666666666666666,
             "#ed7953"
            ],
            [
             0.7777777777777778,
             "#fb9f3a"
            ],
            [
             0.8888888888888888,
             "#fdca26"
            ],
            [
             1,
             "#f0f921"
            ]
           ]
          },
          "colorway": [
           "#636efa",
           "#EF553B",
           "#00cc96",
           "#ab63fa",
           "#FFA15A",
           "#19d3f3",
           "#FF6692",
           "#B6E880",
           "#FF97FF",
           "#FECB52"
          ],
          "font": {
           "color": "#2a3f5f"
          },
          "geo": {
           "bgcolor": "white",
           "lakecolor": "white",
           "landcolor": "#E5ECF6",
           "showlakes": true,
           "showland": true,
           "subunitcolor": "white"
          },
          "hoverlabel": {
           "align": "left"
          },
          "hovermode": "closest",
          "mapbox": {
           "style": "light"
          },
          "paper_bgcolor": "white",
          "plot_bgcolor": "#E5ECF6",
          "polar": {
           "angularaxis": {
            "gridcolor": "white",
            "linecolor": "white",
            "ticks": ""
           },
           "bgcolor": "#E5ECF6",
           "radialaxis": {
            "gridcolor": "white",
            "linecolor": "white",
            "ticks": ""
           }
          },
          "scene": {
           "xaxis": {
            "backgroundcolor": "#E5ECF6",
            "gridcolor": "white",
            "gridwidth": 2,
            "linecolor": "white",
            "showbackground": true,
            "ticks": "",
            "zerolinecolor": "white"
           },
           "yaxis": {
            "backgroundcolor": "#E5ECF6",
            "gridcolor": "white",
            "gridwidth": 2,
            "linecolor": "white",
            "showbackground": true,
            "ticks": "",
            "zerolinecolor": "white"
           },
           "zaxis": {
            "backgroundcolor": "#E5ECF6",
            "gridcolor": "white",
            "gridwidth": 2,
            "linecolor": "white",
            "showbackground": true,
            "ticks": "",
            "zerolinecolor": "white"
           }
          },
          "shapedefaults": {
           "line": {
            "color": "#2a3f5f"
           }
          },
          "ternary": {
           "aaxis": {
            "gridcolor": "white",
            "linecolor": "white",
            "ticks": ""
           },
           "baxis": {
            "gridcolor": "white",
            "linecolor": "white",
            "ticks": ""
           },
           "bgcolor": "#E5ECF6",
           "caxis": {
            "gridcolor": "white",
            "linecolor": "white",
            "ticks": ""
           }
          },
          "title": {
           "x": 0.05
          },
          "xaxis": {
           "automargin": true,
           "gridcolor": "white",
           "linecolor": "white",
           "ticks": "",
           "title": {
            "standoff": 15
           },
           "zerolinecolor": "white",
           "zerolinewidth": 2
          },
          "yaxis": {
           "automargin": true,
           "gridcolor": "white",
           "linecolor": "white",
           "ticks": "",
           "title": {
            "standoff": 15
           },
           "zerolinecolor": "white",
           "zerolinewidth": 2
          }
         }
        }
       }
      }
     },
     "metadata": {},
     "output_type": "display_data"
    }
   ],
   "source": [
    "fig1 = go.Figure(go.Funnel(\n",
    "    y = events['event'],\n",
    "    x = events['users']\n",
    "    ))\n",
    "fig1.show()"
   ]
  },
  {
   "cell_type": "markdown",
   "metadata": {},
   "source": [
    "## ¿En qué etapa pierdes más usuarios y usuarias?\n",
    "<a id=\"stages\"></a>\n",
    "[Inicio](#Inicio)"
   ]
  },
  {
   "cell_type": "markdown",
   "metadata": {},
   "source": [
    "<i> En el gráfico anterior podemos observar que perdemos más usuarios del evento MainScreenApper al evento OffersScreenAppear, con una reducción del 38.8% de usuarios. También podemos observar que del total de usuarios que inicio el proceso, tan sólo el 47.5% concluyó el pago. </i>"
   ]
  },
  {
   "cell_type": "markdown",
   "metadata": {},
   "source": [
    "# Paso 5. Estudiar los resultados del experimento\n",
    "<a id=\"paso5\"></a>\n",
    "[Inicio](#Inicio)"
   ]
  },
  {
   "cell_type": "markdown",
   "metadata": {},
   "source": [
    "## ¿Cuántos usuarios y usuarias hay en cada grupo?\n",
    "<a id=\"users_group\"></a>\n",
    "[Inicio](#Inicio)"
   ]
  },
  {
   "cell_type": "code",
   "execution_count": 21,
   "metadata": {},
   "outputs": [
    {
     "name": "stdout",
     "output_type": "stream",
     "text": [
      "El grupo A tiene 2393 usuarios\n",
      "El grupo AA tiene 2434 usuarios\n",
      "El grupo B tiene 2459 usuarios\n"
     ]
    }
   ],
   "source": [
    "print(f'El grupo A tiene {logs[logs[\"group\"] == 246][\"id\"].nunique()} usuarios')\n",
    "print(f'El grupo AA tiene {logs[logs[\"group\"] == 247][\"id\"].nunique()} usuarios')\n",
    "print(f'El grupo B tiene {logs[logs[\"group\"] == 248][\"id\"].nunique()} usuarios')"
   ]
  },
  {
   "cell_type": "markdown",
   "metadata": {},
   "source": [
    "## Tenemos dos grupos de control en el test A/A, donde comprobamos nuestros mecanismos y cálculos. Observa si hay una diferencia estadísticamente significativa entre las muestras 246 y 247.\n",
    "<a id=\"A/A\"></a>\n",
    "[Inicio](#Inicio)"
   ]
  },
  {
   "cell_type": "code",
   "execution_count": 22,
   "metadata": {},
   "outputs": [],
   "source": [
    "logs_A = logs[logs[\"group\"] == 246]\n",
    "logs_AA = logs[logs[\"group\"] == 247]\n",
    "logs_B = logs[logs[\"group\"] == 248]"
   ]
  },
  {
   "cell_type": "code",
   "execution_count": 23,
   "metadata": {},
   "outputs": [
    {
     "name": "stdout",
     "output_type": "stream",
     "text": [
      "                     event    id\n",
      "1         MainScreenAppear  2355\n",
      "2       OffersScreenAppear  1480\n",
      "0         CartScreenAppear  1213\n",
      "3  PaymentScreenSuccessful  1152\n",
      "4                 Tutorial   230\n",
      "\n",
      "                     event    id\n",
      "1         MainScreenAppear  2392\n",
      "2       OffersScreenAppear  1438\n",
      "0         CartScreenAppear  1184\n",
      "3  PaymentScreenSuccessful  1118\n",
      "4                 Tutorial   227\n"
     ]
    }
   ],
   "source": [
    "filtered_A = logs_A.groupby('event')['id'].nunique().reset_index().sort_values(by='id', ascending=False)\n",
    "print(filtered_A)\n",
    "print()\n",
    "filtered_AA = logs_AA.groupby('event')['id'].nunique().reset_index().sort_values(by='id', ascending=False)\n",
    "print(filtered_AA)\n",
    "filtered_B = logs_B.groupby('event')['id'].nunique().reset_index().sort_values(by='id', ascending=False)"
   ]
  },
  {
   "cell_type": "code",
   "execution_count": 24,
   "metadata": {},
   "outputs": [
    {
     "name": "stdout",
     "output_type": "stream",
     "text": [
      "p-value:  0.13308725429290758\n",
      "No se pudo rechazar la hipótesis nula: no hay razón para pensar que las proporciones son diferentes\n"
     ]
    }
   ],
   "source": [
    "mainscreen_users = np.array([2355,2392])\n",
    "paymentscreen_users = np.array([1152,1118])\n",
    "alpha = .05\n",
    "\n",
    "p1 = paymentscreen_users[0] / mainscreen_users[0]\n",
    "p2 = paymentscreen_users[1] / mainscreen_users[1]\n",
    "\n",
    "p_combined = (paymentscreen_users[0]+paymentscreen_users[1]) / (mainscreen_users[0]+mainscreen_users[1])\n",
    "\n",
    "diff = p1 - p2\n",
    "\n",
    "z_value = diff/mth.sqrt(p_combined*(1-p_combined)*(1/mainscreen_users[0] + 1/mainscreen_users[1]))\n",
    "\n",
    "distr = st.norm(0,1)\n",
    "\n",
    "p_value = (1-distr.cdf(abs(z_value)))*2\n",
    "\n",
    "print('p-value: ', p_value)\n",
    "\n",
    "if p_value < alpha:\n",
    "    print(\"Rechazar la hipótesis nula: hay una diferencia significativa entre las proporciones\")\n",
    "else:\n",
    "    print(\"No se pudo rechazar la hipótesis nula: no hay razón para pensar que las proporciones son diferentes\")\n"
   ]
  },
  {
   "cell_type": "code",
   "execution_count": 25,
   "metadata": {},
   "outputs": [],
   "source": [
    "merged_groups = pd.merge(filtered_A, filtered_AA, on='event').merge(filtered_B, on='event')\n",
    "merged_groups.rename(columns={'id_x':'group_a', 'id_y':'group_aa', 'id':'group_b'}, inplace=True)\n"
   ]
  },
  {
   "cell_type": "code",
   "execution_count": 26,
   "metadata": {},
   "outputs": [
    {
     "data": {
      "text/html": [
       "<div>\n",
       "<style scoped>\n",
       "    .dataframe tbody tr th:only-of-type {\n",
       "        vertical-align: middle;\n",
       "    }\n",
       "\n",
       "    .dataframe tbody tr th {\n",
       "        vertical-align: top;\n",
       "    }\n",
       "\n",
       "    .dataframe thead th {\n",
       "        text-align: right;\n",
       "    }\n",
       "</style>\n",
       "<table border=\"1\" class=\"dataframe\">\n",
       "  <thead>\n",
       "    <tr style=\"text-align: right;\">\n",
       "      <th></th>\n",
       "      <th>event</th>\n",
       "      <th>group_a</th>\n",
       "      <th>group_aa</th>\n",
       "      <th>group_b</th>\n",
       "      <th>conversion_a</th>\n",
       "      <th>conversion_aa</th>\n",
       "      <th>conversion_b</th>\n",
       "    </tr>\n",
       "  </thead>\n",
       "  <tbody>\n",
       "    <tr>\n",
       "      <th>0</th>\n",
       "      <td>MainScreenAppear</td>\n",
       "      <td>2355</td>\n",
       "      <td>2392</td>\n",
       "      <td>2409</td>\n",
       "      <td>1.000000</td>\n",
       "      <td>1.000000</td>\n",
       "      <td>1.000000</td>\n",
       "    </tr>\n",
       "    <tr>\n",
       "      <th>1</th>\n",
       "      <td>OffersScreenAppear</td>\n",
       "      <td>1480</td>\n",
       "      <td>1438</td>\n",
       "      <td>1462</td>\n",
       "      <td>0.628450</td>\n",
       "      <td>0.601171</td>\n",
       "      <td>0.606891</td>\n",
       "    </tr>\n",
       "    <tr>\n",
       "      <th>2</th>\n",
       "      <td>CartScreenAppear</td>\n",
       "      <td>1213</td>\n",
       "      <td>1184</td>\n",
       "      <td>1174</td>\n",
       "      <td>0.515074</td>\n",
       "      <td>0.494983</td>\n",
       "      <td>0.487339</td>\n",
       "    </tr>\n",
       "    <tr>\n",
       "      <th>3</th>\n",
       "      <td>PaymentScreenSuccessful</td>\n",
       "      <td>1152</td>\n",
       "      <td>1118</td>\n",
       "      <td>1129</td>\n",
       "      <td>0.489172</td>\n",
       "      <td>0.467391</td>\n",
       "      <td>0.468659</td>\n",
       "    </tr>\n",
       "    <tr>\n",
       "      <th>4</th>\n",
       "      <td>Tutorial</td>\n",
       "      <td>230</td>\n",
       "      <td>227</td>\n",
       "      <td>233</td>\n",
       "      <td>0.097665</td>\n",
       "      <td>0.094900</td>\n",
       "      <td>0.096721</td>\n",
       "    </tr>\n",
       "  </tbody>\n",
       "</table>\n",
       "</div>"
      ],
      "text/plain": [
       "                     event  group_a  group_aa  group_b  conversion_a  \\\n",
       "0         MainScreenAppear     2355      2392     2409      1.000000   \n",
       "1       OffersScreenAppear     1480      1438     1462      0.628450   \n",
       "2         CartScreenAppear     1213      1184     1174      0.515074   \n",
       "3  PaymentScreenSuccessful     1152      1118     1129      0.489172   \n",
       "4                 Tutorial      230       227      233      0.097665   \n",
       "\n",
       "   conversion_aa  conversion_b  \n",
       "0       1.000000      1.000000  \n",
       "1       0.601171      0.606891  \n",
       "2       0.494983      0.487339  \n",
       "3       0.467391      0.468659  \n",
       "4       0.094900      0.096721  "
      ]
     },
     "execution_count": 26,
     "metadata": {},
     "output_type": "execute_result"
    }
   ],
   "source": [
    "users_a = 2355\n",
    "users_aa = 2392\n",
    "users_b = 2409\n",
    "\n",
    "merged_groups['conversion_a'] = merged_groups['group_a']/users_a\n",
    "merged_groups['conversion_aa'] = merged_groups['group_aa']/users_aa\n",
    "merged_groups['conversion_b'] = merged_groups['group_b']/users_b\n",
    "\n",
    "merged_groups"
   ]
  },
  {
   "cell_type": "markdown",
   "metadata": {},
   "source": [
    "##  Selecciona el evento más popular. En cada uno de los grupos de control, encuentra la cantidad de usuarios y usuarias que realizaron esta acción. Encuentra su proporción. Comprueba si la diferencia entre los grupos es estadísticamente significativa. Repite el procedimiento para todos los demás eventos (ahorrarás tiempo si creas una función especial para esta prueba). ¿Puedes confirmar que los grupos se dividieron correctamente?\n",
    "\n",
    "<a id=\"func\"></a>\n",
    "[Inicio](#Inicio)"
   ]
  },
  {
   "cell_type": "code",
   "execution_count": 27,
   "metadata": {},
   "outputs": [],
   "source": [
    "def mw_test(df, event_col, group_col, group1, group2):\n",
    "    results = []\n",
    "\n",
    "    # Loop through each unique event\n",
    "    for event in df[event_col].unique():\n",
    "        # Filter data for the specific event and groups\n",
    "        group1_data = df[(df[event_col] == event) & (df[group_col] == group1)]\n",
    "        group2_data = df[(df[event_col] == event) & (df[group_col] == group2)]\n",
    "        \n",
    "        # Get the counts (number of occurrences) for each group\n",
    "        counts_group1 = group1_data['id'].value_counts()\n",
    "        counts_group2 = group2_data['id'].value_counts()\n",
    "        \n",
    "        # Perform the Mann-Whitney U test\n",
    "        u_stat, p_value = st.mannwhitneyu(counts_group1, counts_group2, alternative='two-sided')\n",
    "        \n",
    "        # Determine significance\n",
    "        significant_alpha_05 = \"Yes\" if p_value < 0.05 else \"No\"\n",
    "        significant_alpha_1 = \"Yes\" if p_value < 0.1 else \"No\"\n",
    "        \n",
    "        # Append results\n",
    "        results.append([event, p_value, significant_alpha_05, significant_alpha_1])\n",
    "\n",
    "    return pd.DataFrame(results, columns=['event', 'p_value', 'alpha_0.05', 'alpha_0.1'])"
   ]
  },
  {
   "cell_type": "markdown",
   "metadata": {},
   "source": [
    "##  Haz lo mismo para el grupo con fuentes alteradas. Compara los resultados con los de cada uno de los grupos de control para cada evento de forma aislada. Compara los resultados con los resultados combinados de los grupos de control. ¿Qué conclusiones puedes sacar del experimento?\n",
    "<a id=\"results\"></a>\n",
    "[Inicio](#Inicio)"
   ]
  },
  {
   "cell_type": "code",
   "execution_count": 28,
   "metadata": {},
   "outputs": [
    {
     "name": "stdout",
     "output_type": "stream",
     "text": [
      "Results between groups 246 and 248:\n",
      "                     event   p_value alpha_0.05 alpha_0.1\n",
      "0         CartScreenAppear  0.067182         No       Yes\n",
      "1         MainScreenAppear  0.410395         No        No\n",
      "2  PaymentScreenSuccessful  0.430750         No        No\n",
      "3       OffersScreenAppear  0.719259         No        No\n",
      "4                 Tutorial  0.297020         No        No\n"
     ]
    }
   ],
   "source": [
    "results_246_248 = mw_test(logs, 'event', 'group', 246, 248)\n",
    "\n",
    "print(\"Results between groups 246 and 248:\")\n",
    "print(results_246_248)"
   ]
  },
  {
   "cell_type": "markdown",
   "metadata": {},
   "source": [
    "<i><b> Con un nivel de significancia en .05, no parece haber una diferencia significativa, pero con alpha = 0.1 sí existe una diferencia en el evento de CartScreenAppear. Esto sugiere que dependiendo del margen de error que queramos aceptar, el resultado en este evento puede requerir o no mayor investigación de nuestra parte."
   ]
  },
  {
   "cell_type": "code",
   "execution_count": 29,
   "metadata": {},
   "outputs": [
    {
     "name": "stdout",
     "output_type": "stream",
     "text": [
      "\n",
      "Results between groups 247 and 248:\n",
      "                     event   p_value alpha_0.05 alpha_0.1\n",
      "0         CartScreenAppear  0.007447        Yes       Yes\n",
      "1         MainScreenAppear  0.148141         No        No\n",
      "2  PaymentScreenSuccessful  0.035383        Yes       Yes\n",
      "3       OffersScreenAppear  0.692051         No        No\n",
      "4                 Tutorial  0.496780         No        No\n"
     ]
    }
   ],
   "source": [
    "results_247_248 = mw_test(logs, 'event', 'group', 247, 248)\n",
    "\n",
    "print(\"\\nResults between groups 247 and 248:\")\n",
    "print(results_247_248)"
   ]
  },
  {
   "cell_type": "markdown",
   "metadata": {},
   "source": [
    "<i><b> Con un nivel de significancia en .05 podemos concluir que existe una diferencia significativa en el desarrollo de los eventos CartScreenAppear y PaymentScreenAppear entre el grupo de control 247 y el grupo experimental 248. Esta diferencia permanece aún con el nivel de significancia en 0.1. Esto demuestra que existe un comportamiento diferente entre ambos grupos para esos dos eventos en específico."
   ]
  },
  {
   "cell_type": "code",
   "execution_count": 30,
   "metadata": {},
   "outputs": [
    {
     "name": "stdout",
     "output_type": "stream",
     "text": [
      "\n",
      "Results between groups 246 and 247:\n",
      "                     event   p_value alpha_0.05 alpha_0.1\n",
      "0         CartScreenAppear  0.437858         No        No\n",
      "1         MainScreenAppear  0.517347         No        No\n",
      "2  PaymentScreenSuccessful  0.205677         No        No\n",
      "3       OffersScreenAppear  0.962710         No        No\n",
      "4                 Tutorial  0.718566         No        No\n"
     ]
    }
   ],
   "source": [
    "results_246_247 = mw_test(logs, 'event', 'group', 246, 247)\n",
    "\n",
    "print(\"\\nResults between groups 246 and 247:\")\n",
    "print(results_246_247)"
   ]
  },
  {
   "cell_type": "markdown",
   "metadata": {},
   "source": [
    "<i><b> Con ambos niveles de significancia, los grupos de control no presentan diferencias significativas, lo que sugiere que el comportamiento de los usuarios en un grupo y otro no difiere demasiado."
   ]
  },
  {
   "cell_type": "markdown",
   "metadata": {},
   "source": [
    "# Conclusiones\n",
    "<a id=\"conc\"></a>\n",
    "[Inicio](#Inicio)"
   ]
  },
  {
   "cell_type": "markdown",
   "metadata": {},
   "source": [
    "<b> Analizando los datos, pese a diferencias muy puntuales que se revelaron tras las pruebas estadísticas, la información obtenida nos lleva a concluir que el comportamiento de los grupos de control y el experimental son muy similares. Las tasas de conversión y los embudos también sugieren un comportamiento muy similar. Con base en lo ya mencionado, resultaría factible detener la prueba y concluir que los eventos de CartScreenAppear y PaymentScreenAppear merecen mayor atención y análisis en los 3 grupos."
   ]
  }
 ],
 "metadata": {
  "ExecuteTimeLog": [
   {
    "duration": 2718,
    "start_time": "2024-09-25T23:34:47.944Z"
   },
   {
    "duration": 104,
    "start_time": "2024-09-25T23:36:30.236Z"
   },
   {
    "duration": 14,
    "start_time": "2024-09-25T23:36:39.950Z"
   },
   {
    "duration": 2,
    "start_time": "2024-09-25T23:36:47.772Z"
   },
   {
    "duration": 237,
    "start_time": "2024-09-25T23:38:04.880Z"
   },
   {
    "duration": 192,
    "start_time": "2024-09-25T23:38:42.597Z"
   },
   {
    "duration": 110,
    "start_time": "2024-09-25T23:39:27.548Z"
   },
   {
    "duration": 7,
    "start_time": "2024-09-25T23:43:06.028Z"
   },
   {
    "duration": 7,
    "start_time": "2024-09-25T23:43:21.868Z"
   },
   {
    "duration": 106,
    "start_time": "2024-09-25T23:45:57.775Z"
   },
   {
    "duration": 109,
    "start_time": "2024-09-25T23:47:01.462Z"
   },
   {
    "duration": 7,
    "start_time": "2024-09-25T23:47:08.600Z"
   },
   {
    "duration": 7,
    "start_time": "2024-09-25T23:47:35.971Z"
   },
   {
    "duration": 164,
    "start_time": "2024-09-25T23:50:43.841Z"
   },
   {
    "duration": 105,
    "start_time": "2024-09-25T23:50:53.743Z"
   },
   {
    "duration": 8,
    "start_time": "2024-09-25T23:51:32.502Z"
   },
   {
    "duration": 3,
    "start_time": "2024-09-26T00:25:32.461Z"
   },
   {
    "duration": 110,
    "start_time": "2024-09-26T00:25:32.468Z"
   },
   {
    "duration": 8,
    "start_time": "2024-09-26T00:25:32.580Z"
   },
   {
    "duration": 166,
    "start_time": "2024-09-26T00:25:32.590Z"
   },
   {
    "duration": 7,
    "start_time": "2024-09-26T00:25:32.759Z"
   },
   {
    "duration": 10,
    "start_time": "2024-09-26T00:25:55.932Z"
   },
   {
    "duration": 161,
    "start_time": "2024-09-26T00:26:54.477Z"
   },
   {
    "duration": 416,
    "start_time": "2024-09-26T00:41:35.099Z"
   },
   {
    "duration": 2,
    "start_time": "2024-09-26T00:41:53.121Z"
   },
   {
    "duration": 113,
    "start_time": "2024-09-26T00:41:53.127Z"
   },
   {
    "duration": 8,
    "start_time": "2024-09-26T00:41:53.242Z"
   },
   {
    "duration": 173,
    "start_time": "2024-09-26T00:41:53.251Z"
   },
   {
    "duration": 44,
    "start_time": "2024-09-26T00:43:55.170Z"
   },
   {
    "duration": 8,
    "start_time": "2024-09-26T00:43:58.474Z"
   },
   {
    "duration": 2525,
    "start_time": "2024-10-08T15:19:48.814Z"
   },
   {
    "duration": 156,
    "start_time": "2024-10-08T15:19:51.341Z"
   },
   {
    "duration": 9,
    "start_time": "2024-10-08T15:19:51.499Z"
   },
   {
    "duration": 153,
    "start_time": "2024-10-08T15:19:51.510Z"
   },
   {
    "duration": 8,
    "start_time": "2024-10-08T15:19:51.665Z"
   },
   {
    "duration": 346,
    "start_time": "2024-10-08T15:38:41.912Z"
   },
   {
    "duration": 3,
    "start_time": "2024-10-08T15:38:55.739Z"
   },
   {
    "duration": 120,
    "start_time": "2024-10-08T15:38:55.746Z"
   },
   {
    "duration": 10,
    "start_time": "2024-10-08T15:38:55.869Z"
   },
   {
    "duration": 891,
    "start_time": "2024-10-08T15:38:55.881Z"
   },
   {
    "duration": 8,
    "start_time": "2024-10-08T15:38:56.775Z"
   },
   {
    "duration": 8,
    "start_time": "2024-10-08T15:40:01.078Z"
   },
   {
    "duration": 11,
    "start_time": "2024-10-08T15:40:23.329Z"
   },
   {
    "duration": 2,
    "start_time": "2024-10-08T15:41:47.939Z"
   },
   {
    "duration": 111,
    "start_time": "2024-10-08T15:41:47.946Z"
   },
   {
    "duration": 8,
    "start_time": "2024-10-08T15:41:48.059Z"
   },
   {
    "duration": 873,
    "start_time": "2024-10-08T15:41:48.069Z"
   },
   {
    "duration": 10,
    "start_time": "2024-10-08T15:41:48.944Z"
   },
   {
    "duration": 8,
    "start_time": "2024-10-08T15:45:10.477Z"
   },
   {
    "duration": 23,
    "start_time": "2024-10-08T15:57:36.675Z"
   },
   {
    "duration": 11,
    "start_time": "2024-10-08T15:58:07.375Z"
   },
   {
    "duration": 31,
    "start_time": "2024-10-08T16:00:44.770Z"
   },
   {
    "duration": 33,
    "start_time": "2024-10-08T16:10:00.016Z"
   },
   {
    "duration": 37,
    "start_time": "2024-10-08T16:10:35.712Z"
   },
   {
    "duration": 34,
    "start_time": "2024-10-08T16:11:40.584Z"
   },
   {
    "duration": 31,
    "start_time": "2024-10-08T16:13:09.557Z"
   },
   {
    "duration": 27,
    "start_time": "2024-10-08T16:17:09.223Z"
   },
   {
    "duration": 26,
    "start_time": "2024-10-08T16:17:33.271Z"
   },
   {
    "duration": 961,
    "start_time": "2024-10-08T16:24:47.300Z"
   },
   {
    "duration": 139,
    "start_time": "2024-10-08T16:24:48.264Z"
   },
   {
    "duration": 10,
    "start_time": "2024-10-08T16:24:48.405Z"
   },
   {
    "duration": 913,
    "start_time": "2024-10-08T16:24:48.419Z"
   },
   {
    "duration": 8,
    "start_time": "2024-10-08T16:24:49.334Z"
   },
   {
    "duration": 22,
    "start_time": "2024-10-08T16:24:49.345Z"
   },
   {
    "duration": 38,
    "start_time": "2024-10-08T16:24:49.369Z"
   },
   {
    "duration": 29,
    "start_time": "2024-10-08T16:24:49.409Z"
   },
   {
    "duration": 40,
    "start_time": "2024-10-08T16:24:49.441Z"
   },
   {
    "duration": 47,
    "start_time": "2024-10-08T16:24:49.483Z"
   },
   {
    "duration": 625,
    "start_time": "2024-10-08T16:26:00.512Z"
   },
   {
    "duration": 353,
    "start_time": "2024-10-08T16:26:41.668Z"
   },
   {
    "duration": 538,
    "start_time": "2024-10-08T16:29:27.506Z"
   },
   {
    "duration": 223,
    "start_time": "2024-10-08T16:30:06.884Z"
   },
   {
    "duration": 217,
    "start_time": "2024-10-08T16:31:57.088Z"
   },
   {
    "duration": 963,
    "start_time": "2024-10-08T16:34:22.278Z"
   },
   {
    "duration": 128,
    "start_time": "2024-10-08T16:34:23.243Z"
   },
   {
    "duration": 11,
    "start_time": "2024-10-08T16:34:23.373Z"
   },
   {
    "duration": 918,
    "start_time": "2024-10-08T16:34:23.387Z"
   },
   {
    "duration": 9,
    "start_time": "2024-10-08T16:34:24.307Z"
   },
   {
    "duration": 19,
    "start_time": "2024-10-08T16:34:24.318Z"
   },
   {
    "duration": 11,
    "start_time": "2024-10-08T16:34:24.339Z"
   },
   {
    "duration": 60,
    "start_time": "2024-10-08T16:34:24.352Z"
   },
   {
    "duration": 33,
    "start_time": "2024-10-08T16:34:24.414Z"
   },
   {
    "duration": 25,
    "start_time": "2024-10-08T16:34:24.451Z"
   },
   {
    "duration": 593,
    "start_time": "2024-10-08T16:34:24.478Z"
   },
   {
    "duration": 240,
    "start_time": "2024-10-08T16:34:25.073Z"
   },
   {
    "duration": 223,
    "start_time": "2024-10-08T16:35:18.993Z"
   },
   {
    "duration": 216,
    "start_time": "2024-10-08T16:35:31.333Z"
   },
   {
    "duration": 233,
    "start_time": "2024-10-08T16:35:42.386Z"
   },
   {
    "duration": 232,
    "start_time": "2024-10-08T16:35:58.388Z"
   },
   {
    "duration": 251,
    "start_time": "2024-10-08T16:36:09.868Z"
   },
   {
    "duration": 222,
    "start_time": "2024-10-08T16:36:37.836Z"
   },
   {
    "duration": 209,
    "start_time": "2024-10-08T16:36:54.775Z"
   },
   {
    "duration": 225,
    "start_time": "2024-10-08T16:37:13.050Z"
   },
   {
    "duration": 329,
    "start_time": "2024-10-08T16:37:32.270Z"
   },
   {
    "duration": 250,
    "start_time": "2024-10-08T16:37:42.557Z"
   },
   {
    "duration": 242,
    "start_time": "2024-10-08T16:38:08.008Z"
   },
   {
    "duration": 227,
    "start_time": "2024-10-08T16:38:16.957Z"
   },
   {
    "duration": 227,
    "start_time": "2024-10-08T16:38:29.182Z"
   },
   {
    "duration": 250,
    "start_time": "2024-10-08T16:38:50.190Z"
   },
   {
    "duration": 213,
    "start_time": "2024-10-08T16:39:14.200Z"
   },
   {
    "duration": 821,
    "start_time": "2024-10-08T16:41:10.366Z"
   },
   {
    "duration": 124,
    "start_time": "2024-10-08T16:41:11.189Z"
   },
   {
    "duration": 13,
    "start_time": "2024-10-08T16:41:11.316Z"
   },
   {
    "duration": 887,
    "start_time": "2024-10-08T16:41:11.332Z"
   },
   {
    "duration": 6,
    "start_time": "2024-10-08T16:41:12.221Z"
   },
   {
    "duration": 18,
    "start_time": "2024-10-08T16:41:12.229Z"
   },
   {
    "duration": 10,
    "start_time": "2024-10-08T16:41:12.248Z"
   },
   {
    "duration": 48,
    "start_time": "2024-10-08T16:41:12.259Z"
   },
   {
    "duration": 33,
    "start_time": "2024-10-08T16:41:12.309Z"
   },
   {
    "duration": 25,
    "start_time": "2024-10-08T16:41:12.344Z"
   },
   {
    "duration": 499,
    "start_time": "2024-10-08T16:41:12.371Z"
   },
   {
    "duration": 211,
    "start_time": "2024-10-08T16:41:12.872Z"
   },
   {
    "duration": 197,
    "start_time": "2024-10-08T16:46:31.268Z"
   },
   {
    "duration": 197,
    "start_time": "2024-10-08T16:47:05.342Z"
   },
   {
    "duration": 53,
    "start_time": "2024-10-08T16:51:49.929Z"
   },
   {
    "duration": 6,
    "start_time": "2024-10-08T16:56:47.530Z"
   },
   {
    "duration": 5,
    "start_time": "2024-10-08T17:24:48.016Z"
   },
   {
    "duration": 147,
    "start_time": "2024-10-08T17:24:48.030Z"
   },
   {
    "duration": 8,
    "start_time": "2024-10-08T17:24:48.179Z"
   },
   {
    "duration": 1502,
    "start_time": "2024-10-08T17:24:48.189Z"
   },
   {
    "duration": 9,
    "start_time": "2024-10-08T17:24:49.704Z"
   },
   {
    "duration": 22,
    "start_time": "2024-10-08T17:24:49.714Z"
   },
   {
    "duration": 17,
    "start_time": "2024-10-08T17:24:49.737Z"
   },
   {
    "duration": 28,
    "start_time": "2024-10-08T17:24:49.756Z"
   },
   {
    "duration": 52,
    "start_time": "2024-10-08T17:24:49.786Z"
   },
   {
    "duration": 26,
    "start_time": "2024-10-08T17:24:49.840Z"
   },
   {
    "duration": 289,
    "start_time": "2024-10-08T17:24:49.870Z"
   },
   {
    "duration": 114,
    "start_time": "2024-10-08T17:24:50.161Z"
   },
   {
    "duration": 6,
    "start_time": "2024-10-08T17:24:50.277Z"
   },
   {
    "duration": 28,
    "start_time": "2024-10-08T17:29:58.600Z"
   },
   {
    "duration": 41,
    "start_time": "2024-10-08T17:33:00.732Z"
   },
   {
    "duration": 45,
    "start_time": "2024-10-08T17:33:32.675Z"
   },
   {
    "duration": 44,
    "start_time": "2024-10-08T17:34:36.259Z"
   },
   {
    "duration": 43,
    "start_time": "2024-10-08T17:34:54.180Z"
   },
   {
    "duration": 214,
    "start_time": "2024-10-08T17:35:48.544Z"
   },
   {
    "duration": 42,
    "start_time": "2024-10-08T17:35:54.524Z"
   },
   {
    "duration": 44,
    "start_time": "2024-10-08T17:36:16.804Z"
   },
   {
    "duration": 45,
    "start_time": "2024-10-08T17:36:26.079Z"
   },
   {
    "duration": 43,
    "start_time": "2024-10-08T17:36:38.611Z"
   },
   {
    "duration": 44,
    "start_time": "2024-10-08T17:36:45.254Z"
   },
   {
    "duration": 44,
    "start_time": "2024-10-08T17:38:41.090Z"
   },
   {
    "duration": 16,
    "start_time": "2024-10-08T17:43:38.899Z"
   },
   {
    "duration": 23,
    "start_time": "2024-10-08T17:45:51.294Z"
   },
   {
    "duration": 36,
    "start_time": "2024-10-08T17:46:35.023Z"
   },
   {
    "duration": 24,
    "start_time": "2024-10-08T17:51:27.260Z"
   },
   {
    "duration": 13,
    "start_time": "2024-10-08T17:51:50.731Z"
   },
   {
    "duration": 8,
    "start_time": "2024-10-08T17:52:01.879Z"
   },
   {
    "duration": 16,
    "start_time": "2024-10-08T17:54:54.695Z"
   },
   {
    "duration": 17,
    "start_time": "2024-10-08T17:59:11.308Z"
   },
   {
    "duration": 15,
    "start_time": "2024-10-08T17:59:17.893Z"
   },
   {
    "duration": 3,
    "start_time": "2024-10-08T18:00:11.895Z"
   },
   {
    "duration": 16,
    "start_time": "2024-10-08T18:00:17.904Z"
   },
   {
    "duration": 862,
    "start_time": "2024-10-08T18:00:29.637Z"
   },
   {
    "duration": 138,
    "start_time": "2024-10-08T18:00:30.502Z"
   },
   {
    "duration": 11,
    "start_time": "2024-10-08T18:00:30.642Z"
   },
   {
    "duration": 1336,
    "start_time": "2024-10-08T18:00:30.655Z"
   },
   {
    "duration": 12,
    "start_time": "2024-10-08T18:00:31.993Z"
   },
   {
    "duration": 10,
    "start_time": "2024-10-08T18:00:32.007Z"
   },
   {
    "duration": 28,
    "start_time": "2024-10-08T18:00:32.019Z"
   },
   {
    "duration": 31,
    "start_time": "2024-10-08T18:00:32.049Z"
   },
   {
    "duration": 45,
    "start_time": "2024-10-08T18:00:32.082Z"
   },
   {
    "duration": 225,
    "start_time": "2024-10-08T18:00:32.128Z"
   },
   {
    "duration": 108,
    "start_time": "2024-10-08T18:00:32.354Z"
   },
   {
    "duration": 6,
    "start_time": "2024-10-08T18:00:32.464Z"
   },
   {
    "duration": 38,
    "start_time": "2024-10-08T18:00:32.471Z"
   },
   {
    "duration": 48,
    "start_time": "2024-10-08T18:00:32.513Z"
   },
   {
    "duration": 10,
    "start_time": "2024-10-08T18:00:32.562Z"
   },
   {
    "duration": 9,
    "start_time": "2024-10-08T18:00:32.573Z"
   },
   {
    "duration": 275,
    "start_time": "2024-10-08T18:00:32.583Z"
   },
   {
    "duration": 144,
    "start_time": "2024-10-08T18:00:54.295Z"
   },
   {
    "duration": 8,
    "start_time": "2024-10-08T18:03:04.830Z"
   },
   {
    "duration": 8,
    "start_time": "2024-10-08T18:03:10.982Z"
   },
   {
    "duration": 9,
    "start_time": "2024-10-08T18:03:46.493Z"
   },
   {
    "duration": 26,
    "start_time": "2024-10-08T18:04:29.297Z"
   },
   {
    "duration": 9,
    "start_time": "2024-10-08T18:04:36.007Z"
   },
   {
    "duration": 9,
    "start_time": "2024-10-08T18:06:09.500Z"
   },
   {
    "duration": 251,
    "start_time": "2024-10-08T18:09:17.300Z"
   },
   {
    "duration": 7,
    "start_time": "2024-10-08T18:09:49.333Z"
   },
   {
    "duration": 36,
    "start_time": "2024-10-08T18:09:52.534Z"
   },
   {
    "duration": 7,
    "start_time": "2024-10-08T18:10:15.408Z"
   },
   {
    "duration": 37,
    "start_time": "2024-10-08T18:10:20.428Z"
   },
   {
    "duration": 4,
    "start_time": "2024-10-08T18:11:13.702Z"
   },
   {
    "duration": 4,
    "start_time": "2024-10-08T18:11:33.842Z"
   },
   {
    "duration": 7,
    "start_time": "2024-10-08T18:11:46.734Z"
   },
   {
    "duration": 36,
    "start_time": "2024-10-08T18:11:51.977Z"
   },
   {
    "duration": 8,
    "start_time": "2024-10-08T18:19:44.977Z"
   },
   {
    "duration": 8,
    "start_time": "2024-10-08T18:39:39.843Z"
   },
   {
    "duration": 25,
    "start_time": "2024-10-08T18:40:33.073Z"
   },
   {
    "duration": 25,
    "start_time": "2024-10-08T18:40:39.092Z"
   },
   {
    "duration": 8,
    "start_time": "2024-10-08T18:40:47.180Z"
   },
   {
    "duration": 2733,
    "start_time": "2024-10-08T21:58:50.580Z"
   },
   {
    "duration": 179,
    "start_time": "2024-10-08T21:58:53.315Z"
   },
   {
    "duration": 9,
    "start_time": "2024-10-08T21:58:53.496Z"
   },
   {
    "duration": 1286,
    "start_time": "2024-10-08T21:58:53.509Z"
   },
   {
    "duration": 8,
    "start_time": "2024-10-08T21:58:54.797Z"
   },
   {
    "duration": 24,
    "start_time": "2024-10-08T21:58:54.807Z"
   },
   {
    "duration": 28,
    "start_time": "2024-10-08T21:58:54.833Z"
   },
   {
    "duration": 31,
    "start_time": "2024-10-08T21:58:54.863Z"
   },
   {
    "duration": 48,
    "start_time": "2024-10-08T21:58:54.895Z"
   },
   {
    "duration": 233,
    "start_time": "2024-10-08T21:58:54.946Z"
   },
   {
    "duration": 136,
    "start_time": "2024-10-08T21:58:55.181Z"
   },
   {
    "duration": 15,
    "start_time": "2024-10-08T21:58:55.319Z"
   },
   {
    "duration": 27,
    "start_time": "2024-10-08T21:58:55.335Z"
   },
   {
    "duration": 86,
    "start_time": "2024-10-08T21:58:55.364Z"
   },
   {
    "duration": 214,
    "start_time": "2024-10-08T21:58:55.452Z"
   },
   {
    "duration": 10,
    "start_time": "2024-10-08T21:58:55.668Z"
   },
   {
    "duration": 8,
    "start_time": "2024-10-08T21:59:44.884Z"
   },
   {
    "duration": 7,
    "start_time": "2024-10-08T22:10:30.884Z"
   },
   {
    "duration": 67,
    "start_time": "2024-10-08T22:10:51.339Z"
   },
   {
    "duration": 69,
    "start_time": "2024-10-08T22:11:17.122Z"
   },
   {
    "duration": 7,
    "start_time": "2024-10-08T22:12:01.543Z"
   },
   {
    "duration": 3,
    "start_time": "2024-10-08T22:12:23.592Z"
   },
   {
    "duration": 4,
    "start_time": "2024-10-08T22:13:06.459Z"
   },
   {
    "duration": 4,
    "start_time": "2024-10-08T22:13:17.122Z"
   },
   {
    "duration": 67,
    "start_time": "2024-10-08T22:14:12.024Z"
   },
   {
    "duration": 75,
    "start_time": "2024-10-08T22:15:20.855Z"
   },
   {
    "duration": 75,
    "start_time": "2024-10-08T22:28:16.438Z"
   },
   {
    "duration": 105,
    "start_time": "2024-10-08T22:29:11.404Z"
   },
   {
    "duration": 71,
    "start_time": "2024-10-08T22:29:18.812Z"
   },
   {
    "duration": 39,
    "start_time": "2024-10-08T22:55:38.716Z"
   },
   {
    "duration": 40,
    "start_time": "2024-10-08T22:56:40.357Z"
   },
   {
    "duration": 117,
    "start_time": "2024-10-08T23:02:40.308Z"
   },
   {
    "duration": 117,
    "start_time": "2024-10-08T23:03:21.664Z"
   },
   {
    "duration": 119,
    "start_time": "2024-10-08T23:03:53.042Z"
   },
   {
    "duration": 116,
    "start_time": "2024-10-08T23:05:19.586Z"
   },
   {
    "duration": 113,
    "start_time": "2024-10-08T23:06:31.052Z"
   },
   {
    "duration": 118,
    "start_time": "2024-10-08T23:06:54.306Z"
   },
   {
    "duration": 111,
    "start_time": "2024-10-08T23:07:08.362Z"
   },
   {
    "duration": 116,
    "start_time": "2024-10-08T23:09:15.163Z"
   },
   {
    "duration": 179,
    "start_time": "2024-10-08T23:11:37.926Z"
   },
   {
    "duration": 3,
    "start_time": "2024-10-08T23:12:05.435Z"
   },
   {
    "duration": 130,
    "start_time": "2024-10-08T23:12:05.450Z"
   },
   {
    "duration": 11,
    "start_time": "2024-10-08T23:12:05.582Z"
   },
   {
    "duration": 1370,
    "start_time": "2024-10-08T23:12:05.595Z"
   },
   {
    "duration": 7,
    "start_time": "2024-10-08T23:12:06.967Z"
   },
   {
    "duration": 153,
    "start_time": "2024-10-08T23:12:06.978Z"
   },
   {
    "duration": 178,
    "start_time": "2024-10-08T23:12:07.133Z"
   },
   {
    "duration": 201,
    "start_time": "2024-10-08T23:12:07.313Z"
   },
   {
    "duration": 18,
    "start_time": "2024-10-08T23:12:07.516Z"
   },
   {
    "duration": 26,
    "start_time": "2024-10-08T23:12:07.536Z"
   },
   {
    "duration": 31,
    "start_time": "2024-10-08T23:12:07.564Z"
   },
   {
    "duration": 54,
    "start_time": "2024-10-08T23:12:07.597Z"
   },
   {
    "duration": 245,
    "start_time": "2024-10-08T23:12:07.653Z"
   },
   {
    "duration": 82,
    "start_time": "2024-10-08T23:12:07.900Z"
   },
   {
    "duration": 6,
    "start_time": "2024-10-08T23:12:07.985Z"
   },
   {
    "duration": 41,
    "start_time": "2024-10-08T23:12:07.993Z"
   },
   {
    "duration": 48,
    "start_time": "2024-10-08T23:12:08.036Z"
   },
   {
    "duration": 7,
    "start_time": "2024-10-08T23:12:08.086Z"
   },
   {
    "duration": 6,
    "start_time": "2024-10-08T23:12:08.095Z"
   },
   {
    "duration": 94,
    "start_time": "2024-10-08T23:12:08.103Z"
   },
   {
    "duration": 53,
    "start_time": "2024-10-08T23:12:08.199Z"
   },
   {
    "duration": 2812,
    "start_time": "2024-10-09T20:54:54.752Z"
   },
   {
    "duration": 175,
    "start_time": "2024-10-09T20:54:57.566Z"
   },
   {
    "duration": 11,
    "start_time": "2024-10-09T20:54:57.742Z"
   },
   {
    "duration": 1395,
    "start_time": "2024-10-09T20:54:57.755Z"
   },
   {
    "duration": 10,
    "start_time": "2024-10-09T20:54:59.152Z"
   },
   {
    "duration": 149,
    "start_time": "2024-10-09T20:54:59.164Z"
   },
   {
    "duration": 193,
    "start_time": "2024-10-09T20:54:59.315Z"
   },
   {
    "duration": 208,
    "start_time": "2024-10-09T20:54:59.510Z"
   },
   {
    "duration": 14,
    "start_time": "2024-10-09T20:54:59.720Z"
   },
   {
    "duration": 29,
    "start_time": "2024-10-09T20:54:59.737Z"
   },
   {
    "duration": 38,
    "start_time": "2024-10-09T20:54:59.768Z"
   },
   {
    "duration": 47,
    "start_time": "2024-10-09T20:54:59.807Z"
   },
   {
    "duration": 234,
    "start_time": "2024-10-09T20:54:59.855Z"
   },
   {
    "duration": 82,
    "start_time": "2024-10-09T20:55:00.091Z"
   },
   {
    "duration": 7,
    "start_time": "2024-10-09T20:55:00.175Z"
   },
   {
    "duration": 24,
    "start_time": "2024-10-09T20:55:00.184Z"
   },
   {
    "duration": 63,
    "start_time": "2024-10-09T20:55:00.210Z"
   },
   {
    "duration": 150,
    "start_time": "2024-10-09T20:55:00.276Z"
   },
   {
    "duration": 9,
    "start_time": "2024-10-09T20:55:00.428Z"
   },
   {
    "duration": 133,
    "start_time": "2024-10-09T20:55:00.439Z"
   },
   {
    "duration": 36,
    "start_time": "2024-10-09T20:55:00.573Z"
   },
   {
    "duration": 43,
    "start_time": "2024-10-09T20:58:08.704Z"
   },
   {
    "duration": 39,
    "start_time": "2024-10-09T20:58:27.313Z"
   },
   {
    "duration": 23,
    "start_time": "2024-10-09T20:59:05.542Z"
   },
   {
    "duration": 24,
    "start_time": "2024-10-09T20:59:40.833Z"
   },
   {
    "duration": 40,
    "start_time": "2024-10-09T21:00:08.080Z"
   },
   {
    "duration": 3,
    "start_time": "2024-10-09T21:08:39.326Z"
   },
   {
    "duration": 7,
    "start_time": "2024-10-09T21:08:45.550Z"
   },
   {
    "duration": 41,
    "start_time": "2024-10-09T21:24:39.479Z"
   },
   {
    "duration": 8,
    "start_time": "2024-10-09T21:45:24.025Z"
   },
   {
    "duration": 10,
    "start_time": "2024-10-09T21:47:47.758Z"
   },
   {
    "duration": 367,
    "start_time": "2024-10-09T22:18:35.488Z"
   },
   {
    "duration": 74,
    "start_time": "2024-10-09T22:19:05.000Z"
   },
   {
    "duration": 11,
    "start_time": "2024-10-09T22:19:08.991Z"
   },
   {
    "duration": 12,
    "start_time": "2024-10-09T22:19:25.470Z"
   },
   {
    "duration": 12,
    "start_time": "2024-10-09T22:19:57.992Z"
   },
   {
    "duration": 20,
    "start_time": "2024-10-09T23:42:02.924Z"
   },
   {
    "duration": 8,
    "start_time": "2024-10-10T00:13:28.124Z"
   },
   {
    "duration": 7,
    "start_time": "2024-10-10T00:13:49.462Z"
   },
   {
    "duration": 7,
    "start_time": "2024-10-10T00:14:20.900Z"
   },
   {
    "duration": 4,
    "start_time": "2024-10-10T00:18:08.411Z"
   },
   {
    "duration": 4,
    "start_time": "2024-10-10T00:18:12.992Z"
   },
   {
    "duration": 4,
    "start_time": "2024-10-10T00:18:16.008Z"
   },
   {
    "duration": 4,
    "start_time": "2024-10-10T00:18:19.287Z"
   },
   {
    "duration": 3,
    "start_time": "2024-10-10T00:18:21.931Z"
   },
   {
    "duration": 2872,
    "start_time": "2024-10-10T19:00:58.380Z"
   },
   {
    "duration": 223,
    "start_time": "2024-10-10T19:01:01.255Z"
   },
   {
    "duration": 13,
    "start_time": "2024-10-10T19:01:01.479Z"
   },
   {
    "duration": 1467,
    "start_time": "2024-10-10T19:01:01.496Z"
   },
   {
    "duration": 13,
    "start_time": "2024-10-10T19:01:02.964Z"
   },
   {
    "duration": 145,
    "start_time": "2024-10-10T19:01:02.978Z"
   },
   {
    "duration": 171,
    "start_time": "2024-10-10T19:01:03.125Z"
   },
   {
    "duration": 189,
    "start_time": "2024-10-10T19:01:03.298Z"
   },
   {
    "duration": 14,
    "start_time": "2024-10-10T19:01:03.488Z"
   },
   {
    "duration": 29,
    "start_time": "2024-10-10T19:01:03.505Z"
   },
   {
    "duration": 54,
    "start_time": "2024-10-10T19:01:03.536Z"
   },
   {
    "duration": 37,
    "start_time": "2024-10-10T19:01:03.592Z"
   },
   {
    "duration": 270,
    "start_time": "2024-10-10T19:01:03.631Z"
   },
   {
    "duration": 70,
    "start_time": "2024-10-10T19:01:03.903Z"
   },
   {
    "duration": 7,
    "start_time": "2024-10-10T19:01:03.975Z"
   },
   {
    "duration": 26,
    "start_time": "2024-10-10T19:01:03.983Z"
   },
   {
    "duration": 78,
    "start_time": "2024-10-10T19:01:04.010Z"
   },
   {
    "duration": 149,
    "start_time": "2024-10-10T19:01:04.090Z"
   },
   {
    "duration": 8,
    "start_time": "2024-10-10T19:01:04.245Z"
   },
   {
    "duration": 115,
    "start_time": "2024-10-10T19:01:04.255Z"
   },
   {
    "duration": 33,
    "start_time": "2024-10-10T19:01:04.372Z"
   },
   {
    "duration": 73,
    "start_time": "2024-10-10T19:01:04.408Z"
   },
   {
    "duration": 9,
    "start_time": "2024-10-10T19:01:04.485Z"
   },
   {
    "duration": 11,
    "start_time": "2024-10-10T19:01:04.497Z"
   },
   {
    "duration": 11,
    "start_time": "2024-10-10T19:01:04.510Z"
   },
   {
    "duration": 5,
    "start_time": "2024-10-10T19:01:04.522Z"
   },
   {
    "duration": 780,
    "start_time": "2024-10-10T19:04:45.333Z"
   },
   {
    "duration": 66,
    "start_time": "2024-10-10T19:04:57.751Z"
   },
   {
    "duration": 20,
    "start_time": "2024-10-10T19:05:09.925Z"
   },
   {
    "duration": 887,
    "start_time": "2024-10-10T19:05:56.650Z"
   },
   {
    "duration": 139,
    "start_time": "2024-10-10T19:05:57.540Z"
   },
   {
    "duration": 10,
    "start_time": "2024-10-10T19:05:57.681Z"
   },
   {
    "duration": 1451,
    "start_time": "2024-10-10T19:05:57.694Z"
   },
   {
    "duration": 8,
    "start_time": "2024-10-10T19:05:59.147Z"
   },
   {
    "duration": 175,
    "start_time": "2024-10-10T19:05:59.157Z"
   },
   {
    "duration": 177,
    "start_time": "2024-10-10T19:05:59.333Z"
   },
   {
    "duration": 206,
    "start_time": "2024-10-10T19:05:59.512Z"
   },
   {
    "duration": 11,
    "start_time": "2024-10-10T19:05:59.721Z"
   },
   {
    "duration": 53,
    "start_time": "2024-10-10T19:05:59.736Z"
   },
   {
    "duration": 37,
    "start_time": "2024-10-10T19:05:59.790Z"
   },
   {
    "duration": 25,
    "start_time": "2024-10-10T19:05:59.828Z"
   },
   {
    "duration": 239,
    "start_time": "2024-10-10T19:05:59.855Z"
   },
   {
    "duration": 104,
    "start_time": "2024-10-10T19:06:00.096Z"
   },
   {
    "duration": 8,
    "start_time": "2024-10-10T19:06:00.202Z"
   },
   {
    "duration": 30,
    "start_time": "2024-10-10T19:06:00.212Z"
   },
   {
    "duration": 68,
    "start_time": "2024-10-10T19:06:00.243Z"
   },
   {
    "duration": 140,
    "start_time": "2024-10-10T19:06:00.313Z"
   },
   {
    "duration": 7,
    "start_time": "2024-10-10T19:06:00.455Z"
   },
   {
    "duration": 107,
    "start_time": "2024-10-10T19:06:00.463Z"
   },
   {
    "duration": 27,
    "start_time": "2024-10-10T19:06:00.572Z"
   },
   {
    "duration": 82,
    "start_time": "2024-10-10T19:06:00.601Z"
   },
   {
    "duration": 7,
    "start_time": "2024-10-10T19:06:00.685Z"
   },
   {
    "duration": 16,
    "start_time": "2024-10-10T19:06:00.694Z"
   },
   {
    "duration": 11,
    "start_time": "2024-10-10T19:06:00.713Z"
   },
   {
    "duration": 293,
    "start_time": "2024-10-10T19:06:00.726Z"
   },
   {
    "duration": 6,
    "start_time": "2024-10-10T19:06:32.921Z"
   },
   {
    "duration": 6,
    "start_time": "2024-10-10T19:07:56.759Z"
   },
   {
    "duration": 30,
    "start_time": "2024-10-10T19:08:21.778Z"
   },
   {
    "duration": 15,
    "start_time": "2024-10-10T19:08:34.259Z"
   },
   {
    "duration": 18,
    "start_time": "2024-10-10T19:08:58.507Z"
   },
   {
    "duration": 28,
    "start_time": "2024-10-10T19:26:06.174Z"
   },
   {
    "duration": 15,
    "start_time": "2024-10-10T19:26:17.174Z"
   },
   {
    "duration": 5,
    "start_time": "2024-10-10T19:26:41.743Z"
   },
   {
    "duration": 7,
    "start_time": "2024-10-10T19:38:18.624Z"
   },
   {
    "duration": 11,
    "start_time": "2024-10-10T19:39:34.230Z"
   },
   {
    "duration": 16,
    "start_time": "2024-10-10T19:39:56.499Z"
   },
   {
    "duration": 9,
    "start_time": "2024-10-10T19:44:05.128Z"
   },
   {
    "duration": 16,
    "start_time": "2024-10-10T19:46:01.487Z"
   },
   {
    "duration": 11,
    "start_time": "2024-10-10T19:47:53.187Z"
   },
   {
    "duration": 25,
    "start_time": "2024-10-10T19:51:38.834Z"
   },
   {
    "duration": 25,
    "start_time": "2024-10-10T20:06:27.731Z"
   },
   {
    "duration": 72,
    "start_time": "2024-10-10T20:07:37.260Z"
   },
   {
    "duration": 35,
    "start_time": "2024-10-10T20:28:50.468Z"
   },
   {
    "duration": 1340,
    "start_time": "2024-10-10T20:31:38.391Z"
   },
   {
    "duration": 144,
    "start_time": "2024-10-10T20:32:24.930Z"
   },
   {
    "duration": 167,
    "start_time": "2024-10-10T20:33:07.027Z"
   },
   {
    "duration": 989,
    "start_time": "2024-10-10T20:33:15.341Z"
   },
   {
    "duration": 209,
    "start_time": "2024-10-10T20:33:16.334Z"
   },
   {
    "duration": 13,
    "start_time": "2024-10-10T20:33:16.548Z"
   },
   {
    "duration": 1722,
    "start_time": "2024-10-10T20:33:16.565Z"
   },
   {
    "duration": 13,
    "start_time": "2024-10-10T20:33:18.289Z"
   },
   {
    "duration": 147,
    "start_time": "2024-10-10T20:33:18.304Z"
   },
   {
    "duration": 173,
    "start_time": "2024-10-10T20:33:18.453Z"
   },
   {
    "duration": 228,
    "start_time": "2024-10-10T20:33:18.627Z"
   },
   {
    "duration": 16,
    "start_time": "2024-10-10T20:33:18.857Z"
   },
   {
    "duration": 44,
    "start_time": "2024-10-10T20:33:18.878Z"
   },
   {
    "duration": 50,
    "start_time": "2024-10-10T20:33:18.926Z"
   },
   {
    "duration": 40,
    "start_time": "2024-10-10T20:33:18.978Z"
   },
   {
    "duration": 291,
    "start_time": "2024-10-10T20:33:19.022Z"
   },
   {
    "duration": 82,
    "start_time": "2024-10-10T20:33:19.315Z"
   },
   {
    "duration": 8,
    "start_time": "2024-10-10T20:33:19.403Z"
   },
   {
    "duration": 33,
    "start_time": "2024-10-10T20:33:19.413Z"
   },
   {
    "duration": 76,
    "start_time": "2024-10-10T20:33:19.448Z"
   },
   {
    "duration": 146,
    "start_time": "2024-10-10T20:33:19.525Z"
   },
   {
    "duration": 13,
    "start_time": "2024-10-10T20:33:19.673Z"
   },
   {
    "duration": 124,
    "start_time": "2024-10-10T20:33:19.688Z"
   },
   {
    "duration": 39,
    "start_time": "2024-10-10T20:33:19.814Z"
   },
   {
    "duration": 68,
    "start_time": "2024-10-10T20:33:19.854Z"
   },
   {
    "duration": 7,
    "start_time": "2024-10-10T20:33:19.924Z"
   },
   {
    "duration": 13,
    "start_time": "2024-10-10T20:33:19.933Z"
   },
   {
    "duration": 28,
    "start_time": "2024-10-10T20:33:19.948Z"
   },
   {
    "duration": 1824,
    "start_time": "2024-10-10T20:33:19.977Z"
   },
   {
    "duration": 38,
    "start_time": "2024-10-10T20:34:02.191Z"
   },
   {
    "duration": 33,
    "start_time": "2024-10-10T20:35:15.311Z"
   },
   {
    "duration": 137,
    "start_time": "2024-10-10T20:35:53.684Z"
   },
   {
    "duration": 31,
    "start_time": "2024-10-10T20:36:28.739Z"
   },
   {
    "duration": 23,
    "start_time": "2024-10-10T20:36:42.837Z"
   },
   {
    "duration": 94,
    "start_time": "2024-10-10T20:38:02.223Z"
   },
   {
    "duration": 18,
    "start_time": "2024-10-10T20:39:47.101Z"
   },
   {
    "duration": 79,
    "start_time": "2024-10-10T20:39:50.675Z"
   },
   {
    "duration": 29,
    "start_time": "2024-10-10T20:40:22.919Z"
   },
   {
    "duration": 4,
    "start_time": "2024-10-10T20:47:16.852Z"
   },
   {
    "duration": 498,
    "start_time": "2024-10-10T20:47:56.714Z"
   },
   {
    "duration": 118,
    "start_time": "2024-10-10T20:52:02.984Z"
   },
   {
    "duration": 32,
    "start_time": "2024-10-10T20:52:26.955Z"
   },
   {
    "duration": 18,
    "start_time": "2024-10-10T20:52:44.002Z"
   },
   {
    "duration": 3,
    "start_time": "2024-10-10T20:53:01.062Z"
   },
   {
    "duration": 10,
    "start_time": "2024-10-10T20:53:03.654Z"
   },
   {
    "duration": 20,
    "start_time": "2024-10-10T20:53:37.799Z"
   },
   {
    "duration": 5,
    "start_time": "2024-10-10T20:59:12.822Z"
   },
   {
    "duration": 14,
    "start_time": "2024-10-10T21:00:55.727Z"
   },
   {
    "duration": 125,
    "start_time": "2024-10-10T21:01:03.149Z"
   },
   {
    "duration": 7,
    "start_time": "2024-10-10T21:01:46.188Z"
   },
   {
    "duration": 70,
    "start_time": "2024-10-10T21:04:42.291Z"
   },
   {
    "duration": 559,
    "start_time": "2024-10-10T21:05:00.566Z"
   },
   {
    "duration": 13,
    "start_time": "2024-10-10T21:09:15.809Z"
   },
   {
    "duration": 4,
    "start_time": "2024-10-10T21:20:09.058Z"
   },
   {
    "duration": 4,
    "start_time": "2024-10-10T21:20:27.631Z"
   },
   {
    "duration": 193,
    "start_time": "2024-10-10T21:20:54.729Z"
   },
   {
    "duration": 7,
    "start_time": "2024-10-10T21:30:38.604Z"
   },
   {
    "duration": 6,
    "start_time": "2024-10-10T21:30:47.997Z"
   },
   {
    "duration": 63,
    "start_time": "2024-10-10T21:30:50.695Z"
   },
   {
    "duration": 6,
    "start_time": "2024-10-10T21:32:12.375Z"
   },
   {
    "duration": 78,
    "start_time": "2024-10-10T21:32:15.975Z"
   },
   {
    "duration": 6,
    "start_time": "2024-10-10T21:37:09.060Z"
   },
   {
    "duration": 24,
    "start_time": "2024-10-10T21:37:11.231Z"
   },
   {
    "duration": 8,
    "start_time": "2024-10-10T21:37:34.193Z"
   },
   {
    "duration": 33,
    "start_time": "2024-10-10T21:37:36.633Z"
   },
   {
    "duration": 5,
    "start_time": "2024-10-10T21:37:52.002Z"
   },
   {
    "duration": 38,
    "start_time": "2024-10-10T21:37:54.334Z"
   },
   {
    "duration": 6,
    "start_time": "2024-10-10T21:38:10.013Z"
   },
   {
    "duration": 50,
    "start_time": "2024-10-10T21:38:12.743Z"
   },
   {
    "duration": 6,
    "start_time": "2024-10-10T21:38:24.801Z"
   },
   {
    "duration": 68,
    "start_time": "2024-10-10T21:38:27.115Z"
   },
   {
    "duration": 4,
    "start_time": "2024-10-10T21:38:36.841Z"
   },
   {
    "duration": 191,
    "start_time": "2024-10-10T21:38:37.776Z"
   },
   {
    "duration": 14,
    "start_time": "2024-10-10T21:40:09.694Z"
   },
   {
    "duration": 203,
    "start_time": "2024-10-10T21:40:18.241Z"
   },
   {
    "duration": 195,
    "start_time": "2024-10-10T21:40:35.560Z"
   },
   {
    "duration": 176,
    "start_time": "2024-10-10T21:40:47.502Z"
   },
   {
    "duration": 6,
    "start_time": "2024-10-10T21:41:21.597Z"
   },
   {
    "duration": 191,
    "start_time": "2024-10-10T21:41:26.875Z"
   },
   {
    "duration": 186,
    "start_time": "2024-10-10T21:41:33.833Z"
   },
   {
    "duration": 175,
    "start_time": "2024-10-10T21:41:37.674Z"
   },
   {
    "duration": 7,
    "start_time": "2024-10-10T21:59:57.308Z"
   },
   {
    "duration": 1656,
    "start_time": "2024-10-11T13:36:08.514Z"
   },
   {
    "duration": 264,
    "start_time": "2024-10-11T13:36:11.679Z"
   },
   {
    "duration": 9,
    "start_time": "2024-10-11T13:36:22.625Z"
   },
   {
    "duration": 1342,
    "start_time": "2024-10-11T13:37:58.284Z"
   },
   {
    "duration": 9,
    "start_time": "2024-10-11T13:37:59.628Z"
   },
   {
    "duration": 131,
    "start_time": "2024-10-11T13:38:11.153Z"
   },
   {
    "duration": 160,
    "start_time": "2024-10-11T13:38:14.643Z"
   },
   {
    "duration": 10,
    "start_time": "2024-10-11T13:38:28.632Z"
   },
   {
    "duration": 32,
    "start_time": "2024-10-11T13:38:41.826Z"
   },
   {
    "duration": 34,
    "start_time": "2024-10-11T13:38:42.686Z"
   },
   {
    "duration": 25,
    "start_time": "2024-10-11T13:38:45.634Z"
   },
   {
    "duration": 223,
    "start_time": "2024-10-11T13:38:59.182Z"
   },
   {
    "duration": 57,
    "start_time": "2024-10-11T13:39:12.878Z"
   },
   {
    "duration": 6,
    "start_time": "2024-10-11T13:40:01.176Z"
   },
   {
    "duration": 25,
    "start_time": "2024-10-11T13:40:04.066Z"
   },
   {
    "duration": 48,
    "start_time": "2024-10-11T13:40:13.499Z"
   },
   {
    "duration": 170,
    "start_time": "2024-10-11T13:40:16.528Z"
   },
   {
    "duration": 8,
    "start_time": "2024-10-11T13:41:41.709Z"
   },
   {
    "duration": 57,
    "start_time": "2024-10-11T13:41:52.672Z"
   },
   {
    "duration": 28,
    "start_time": "2024-10-11T13:41:54.186Z"
   },
   {
    "duration": 61,
    "start_time": "2024-10-11T13:42:19.115Z"
   },
   {
    "duration": 6,
    "start_time": "2024-10-11T13:42:19.383Z"
   },
   {
    "duration": 11,
    "start_time": "2024-10-11T13:42:19.626Z"
   },
   {
    "duration": 39,
    "start_time": "2024-10-11T13:42:19.816Z"
   },
   {
    "duration": 5,
    "start_time": "2024-10-11T13:42:36.023Z"
   },
   {
    "duration": 177,
    "start_time": "2024-10-11T13:43:00.432Z"
   },
   {
    "duration": 176,
    "start_time": "2024-10-11T13:43:03.335Z"
   },
   {
    "duration": 164,
    "start_time": "2024-10-11T13:43:08.920Z"
   },
   {
    "duration": 155,
    "start_time": "2024-10-11T13:44:43.436Z"
   },
   {
    "duration": 155,
    "start_time": "2024-10-11T13:44:45.708Z"
   }
  ],
  "kernelspec": {
   "display_name": "Python 3",
   "language": "python",
   "name": "python3"
  },
  "language_info": {
   "codemirror_mode": {
    "name": "ipython",
    "version": 3
   },
   "file_extension": ".py",
   "mimetype": "text/x-python",
   "name": "python",
   "nbconvert_exporter": "python",
   "pygments_lexer": "ipython3",
   "version": "3.12.2"
  },
  "toc": {
   "base_numbering": 1,
   "nav_menu": {},
   "number_sections": true,
   "sideBar": true,
   "skip_h1_title": true,
   "title_cell": "Table of Contents",
   "title_sidebar": "Contents",
   "toc_cell": false,
   "toc_position": {},
   "toc_section_display": true,
   "toc_window_display": false
  }
 },
 "nbformat": 4,
 "nbformat_minor": 2
}
